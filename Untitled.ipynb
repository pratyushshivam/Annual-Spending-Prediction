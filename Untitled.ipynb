{
 "cells": [
  {
   "cell_type": "code",
   "execution_count": 1,
   "metadata": {},
   "outputs": [
    {
     "ename": "ImportError",
     "evalue": "No module named numpy",
     "output_type": "error",
     "traceback": [
      "\u001b[1;31m---------------------------------------------------------------------------\u001b[0m",
      "\u001b[1;31mImportError\u001b[0m                               Traceback (most recent call last)",
      "\u001b[1;32m<ipython-input-1-0aa0b027fcb6>\u001b[0m in \u001b[0;36m<module>\u001b[1;34m()\u001b[0m\n\u001b[1;32m----> 1\u001b[1;33m \u001b[1;32mimport\u001b[0m \u001b[0mnumpy\u001b[0m \u001b[1;32mas\u001b[0m \u001b[0mnp\u001b[0m\u001b[1;33m\u001b[0m\u001b[0m\n\u001b[0m",
      "\u001b[1;31mImportError\u001b[0m: No module named numpy"
     ]
    }
   ],
   "source": [
    "import numpy as np\n"
   ]
  },
  {
   "cell_type": "code",
   "execution_count": 2,
   "metadata": {},
   "outputs": [
    {
     "ename": "SyntaxError",
     "evalue": "invalid syntax (<ipython-input-2-18ba4e71f9fb>, line 1)",
     "output_type": "error",
     "traceback": [
      "\u001b[1;36m  File \u001b[1;32m\"<ipython-input-2-18ba4e71f9fb>\"\u001b[1;36m, line \u001b[1;32m1\u001b[0m\n\u001b[1;33m    pip install numpy\u001b[0m\n\u001b[1;37m              ^\u001b[0m\n\u001b[1;31mSyntaxError\u001b[0m\u001b[1;31m:\u001b[0m invalid syntax\n"
     ]
    }
   ],
   "source": [
    "pip install numpy\n"
   ]
  },
  {
   "cell_type": "code",
   "execution_count": 3,
   "metadata": {},
   "outputs": [
    {
     "name": "stdout",
     "output_type": "stream",
     "text": [
      "Collecting numpy\n",
      "  Downloading https://files.pythonhosted.org/packages/14/ef/9f2eeb4ff0c733ad9149f17266e388c308e171fdb8c2415dbb472e2bbc0f/numpy-1.16.6-cp27-cp27m-win_amd64.whl (11.9MB)\n",
      "Installing collected packages: numpy\n",
      "Successfully installed numpy-1.16.6\n"
     ]
    },
    {
     "name": "stderr",
     "output_type": "stream",
     "text": [
      "DEPRECATION: Python 2.7 will reach the end of its life on January 1st, 2020. Please upgrade your Python as Python 2.7 won't be maintained after that date. A future version of pip will drop support for Python 2.7. More details about Python 2 support in pip, can be found at https://pip.pypa.io/en/latest/development/release-process/#python-2-support\n",
      "WARNING: You are using pip version 19.2.3, however version 20.3.1 is available.\n",
      "You should consider upgrading via the 'python -m pip install --upgrade pip' command.\n"
     ]
    }
   ],
   "source": [
    "!pip install numpy\n"
   ]
  },
  {
   "cell_type": "code",
   "execution_count": 4,
   "metadata": {},
   "outputs": [],
   "source": [
    "import numpy as np\n"
   ]
  },
  {
   "cell_type": "code",
   "execution_count": 5,
   "metadata": {},
   "outputs": [
    {
     "name": "stdout",
     "output_type": "stream",
     "text": [
      "Collecting pandas\n",
      "  Downloading https://files.pythonhosted.org/packages/61/57/6c233cc63597c6aa6337e717bdeabf791e8b618e9c893922a223e4e41cf4/pandas-0.24.2-cp27-cp27m-win_amd64.whl (8.3MB)\n",
      "Requirement already satisfied: python-dateutil>=2.5.0 in c:\\python27\\lib\\site-packages (from pandas) (2.8.1)\n",
      "Collecting pytz>=2011k (from pandas)\n",
      "  Downloading https://files.pythonhosted.org/packages/12/f8/ff09af6ff61a3efaad5f61ba5facdf17e7722c4393f7d8a66674d2dbd29f/pytz-2020.4-py2.py3-none-any.whl (509kB)\n",
      "Requirement already satisfied: numpy>=1.12.0 in c:\\python27\\lib\\site-packages (from pandas) (1.16.6)\n",
      "Requirement already satisfied: six>=1.5 in c:\\python27\\lib\\site-packages (from python-dateutil>=2.5.0->pandas) (1.15.0)\n",
      "Installing collected packages: pytz, pandas\n",
      "Successfully installed pandas-0.24.2 pytz-2020.4\n"
     ]
    },
    {
     "name": "stderr",
     "output_type": "stream",
     "text": [
      "DEPRECATION: Python 2.7 will reach the end of its life on January 1st, 2020. Please upgrade your Python as Python 2.7 won't be maintained after that date. A future version of pip will drop support for Python 2.7. More details about Python 2 support in pip, can be found at https://pip.pypa.io/en/latest/development/release-process/#python-2-support\n",
      "WARNING: You are using pip version 19.2.3, however version 20.3.1 is available.\n",
      "You should consider upgrading via the 'python -m pip install --upgrade pip' command.\n"
     ]
    }
   ],
   "source": [
    "!pip install pandas\n"
   ]
  },
  {
   "cell_type": "code",
   "execution_count": 6,
   "metadata": {},
   "outputs": [],
   "source": [
    "import pandas as pd\n"
   ]
  },
  {
   "cell_type": "code",
   "execution_count": 7,
   "metadata": {},
   "outputs": [
    {
     "name": "stdout",
     "output_type": "stream",
     "text": [
      "Collecting matplotlib\n",
      "  Downloading https://files.pythonhosted.org/packages/60/f3/6bf72ceec1f3cd3ff5df1ab71d1655920f099c34484360bbed025ded521f/matplotlib-2.2.5-cp27-cp27m-win_amd64.whl (8.7MB)\n",
      "Requirement already satisfied: pyparsing!=2.0.4,!=2.1.2,!=2.1.6,>=2.0.1 in c:\\python27\\lib\\site-packages (from matplotlib) (2.4.7)\n",
      "Requirement already satisfied: python-dateutil>=2.1 in c:\\python27\\lib\\site-packages (from matplotlib) (2.8.1)\n",
      "Requirement already satisfied: six>=1.10 in c:\\python27\\lib\\site-packages (from matplotlib) (1.15.0)\n",
      "Requirement already satisfied: pytz in c:\\python27\\lib\\site-packages (from matplotlib) (2020.4)\n",
      "Collecting kiwisolver>=1.0.1 (from matplotlib)\n",
      "  Downloading https://files.pythonhosted.org/packages/4e/02/9c79d58f2e9f61d201f8390b5f51fdb0c19e777a241818b784f2a38ee013/kiwisolver-1.1.0-cp27-none-win_amd64.whl (64kB)\n",
      "Requirement already satisfied: backports.functools-lru-cache in c:\\python27\\lib\\site-packages (from matplotlib) (1.6.1)\n",
      "Requirement already satisfied: numpy>=1.7.1 in c:\\python27\\lib\\site-packages (from matplotlib) (1.16.6)\n",
      "Collecting cycler>=0.10 (from matplotlib)\n",
      "  Using cached https://files.pythonhosted.org/packages/f7/d2/e07d3ebb2bd7af696440ce7e754c59dd546ffe1bbe732c8ab68b9c834e61/cycler-0.10.0-py2.py3-none-any.whl\n",
      "Requirement already satisfied: setuptools in c:\\python27\\lib\\site-packages (from kiwisolver>=1.0.1->matplotlib) (41.2.0)\n",
      "Installing collected packages: kiwisolver, cycler, matplotlib\n",
      "Successfully installed cycler-0.10.0 kiwisolver-1.1.0 matplotlib-2.2.5\n"
     ]
    },
    {
     "name": "stderr",
     "output_type": "stream",
     "text": [
      "DEPRECATION: Python 2.7 will reach the end of its life on January 1st, 2020. Please upgrade your Python as Python 2.7 won't be maintained after that date. A future version of pip will drop support for Python 2.7. More details about Python 2 support in pip, can be found at https://pip.pypa.io/en/latest/development/release-process/#python-2-support\n",
      "WARNING: You are using pip version 19.2.3, however version 20.3.1 is available.\n",
      "You should consider upgrading via the 'python -m pip install --upgrade pip' command.\n"
     ]
    }
   ],
   "source": [
    "!pip install matplotlib\n"
   ]
  },
  {
   "cell_type": "code",
   "execution_count": 8,
   "metadata": {},
   "outputs": [],
   "source": [
    "import matplotlib as mlt"
   ]
  },
  {
   "cell_type": "code",
   "execution_count": 1,
   "metadata": {},
   "outputs": [
    {
     "ename": "NameError",
     "evalue": "name 'pd' is not defined",
     "output_type": "error",
     "traceback": [
      "\u001b[1;31m---------------------------------------------------------------------------\u001b[0m",
      "\u001b[1;31mNameError\u001b[0m                                 Traceback (most recent call last)",
      "\u001b[1;32m<ipython-input-1-9ab14c0bcb50>\u001b[0m in \u001b[0;36m<module>\u001b[1;34m()\u001b[0m\n\u001b[1;32m----> 1\u001b[1;33m \u001b[0mdataset\u001b[0m \u001b[1;33m=\u001b[0m \u001b[0mpd\u001b[0m\u001b[1;33m.\u001b[0m\u001b[0mread_csv\u001b[0m\u001b[1;33m(\u001b[0m\u001b[1;34m'Ecommerce Customers.csv'\u001b[0m\u001b[1;33m)\u001b[0m\u001b[1;33m\u001b[0m\u001b[0m\n\u001b[0m",
      "\u001b[1;31mNameError\u001b[0m: name 'pd' is not defined"
     ]
    }
   ],
   "source": [
    "dataset = pd.read_csv('Ecommerce Customers.csv')"
   ]
  },
  {
   "cell_type": "code",
   "execution_count": 2,
   "metadata": {},
   "outputs": [],
   "source": [
    "import pandas as pd"
   ]
  },
  {
   "cell_type": "code",
   "execution_count": 3,
   "metadata": {},
   "outputs": [],
   "source": [
    "dataset = pd.read_csv('Ecommerce Customers.csv')"
   ]
  },
  {
   "cell_type": "code",
   "execution_count": 4,
   "metadata": {},
   "outputs": [
    {
     "data": {
      "text/html": [
       "<div>\n",
       "<style scoped>\n",
       "    .dataframe tbody tr th:only-of-type {\n",
       "        vertical-align: middle;\n",
       "    }\n",
       "\n",
       "    .dataframe tbody tr th {\n",
       "        vertical-align: top;\n",
       "    }\n",
       "\n",
       "    .dataframe thead th {\n",
       "        text-align: right;\n",
       "    }\n",
       "</style>\n",
       "<table border=\"1\" class=\"dataframe\">\n",
       "  <thead>\n",
       "    <tr style=\"text-align: right;\">\n",
       "      <th></th>\n",
       "      <th>Email</th>\n",
       "      <th>Address</th>\n",
       "      <th>Avatar</th>\n",
       "      <th>Avg. Session Length</th>\n",
       "      <th>Time on App</th>\n",
       "      <th>Time on Website</th>\n",
       "      <th>Length of Membership</th>\n",
       "      <th>Yearly Amount Spent</th>\n",
       "    </tr>\n",
       "  </thead>\n",
       "  <tbody>\n",
       "    <tr>\n",
       "      <th>0</th>\n",
       "      <td>mstephenson@fernandez.com</td>\n",
       "      <td>835 Frank Tunnel\\nWrightmouth, MI 82180-9605</td>\n",
       "      <td>Violet</td>\n",
       "      <td>34.497268</td>\n",
       "      <td>12.655651</td>\n",
       "      <td>39.577668</td>\n",
       "      <td>4.082621</td>\n",
       "      <td>587.951054</td>\n",
       "    </tr>\n",
       "    <tr>\n",
       "      <th>1</th>\n",
       "      <td>hduke@hotmail.com</td>\n",
       "      <td>4547 Archer Common\\nDiazchester, CA 06566-8576</td>\n",
       "      <td>DarkGreen</td>\n",
       "      <td>31.926272</td>\n",
       "      <td>11.109461</td>\n",
       "      <td>37.268959</td>\n",
       "      <td>2.664034</td>\n",
       "      <td>392.204933</td>\n",
       "    </tr>\n",
       "    <tr>\n",
       "      <th>2</th>\n",
       "      <td>pallen@yahoo.com</td>\n",
       "      <td>24645 Valerie Unions Suite 582\\nCobbborough, D...</td>\n",
       "      <td>Bisque</td>\n",
       "      <td>33.000915</td>\n",
       "      <td>11.330278</td>\n",
       "      <td>37.110597</td>\n",
       "      <td>4.104543</td>\n",
       "      <td>487.547505</td>\n",
       "    </tr>\n",
       "    <tr>\n",
       "      <th>3</th>\n",
       "      <td>riverarebecca@gmail.com</td>\n",
       "      <td>1414 David Throughway\\nPort Jason, OH 22070-1220</td>\n",
       "      <td>SaddleBrown</td>\n",
       "      <td>34.305557</td>\n",
       "      <td>13.717514</td>\n",
       "      <td>36.721283</td>\n",
       "      <td>3.120179</td>\n",
       "      <td>581.852344</td>\n",
       "    </tr>\n",
       "    <tr>\n",
       "      <th>4</th>\n",
       "      <td>mstephens@davidson-herman.com</td>\n",
       "      <td>14023 Rodriguez Passage\\nPort Jacobville, PR 3...</td>\n",
       "      <td>MediumAquaMarine</td>\n",
       "      <td>33.330673</td>\n",
       "      <td>12.795189</td>\n",
       "      <td>37.536653</td>\n",
       "      <td>4.446308</td>\n",
       "      <td>599.406092</td>\n",
       "    </tr>\n",
       "  </tbody>\n",
       "</table>\n",
       "</div>"
      ],
      "text/plain": [
       "                           Email  \\\n",
       "0      mstephenson@fernandez.com   \n",
       "1              hduke@hotmail.com   \n",
       "2               pallen@yahoo.com   \n",
       "3        riverarebecca@gmail.com   \n",
       "4  mstephens@davidson-herman.com   \n",
       "\n",
       "                                             Address            Avatar  \\\n",
       "0       835 Frank Tunnel\\nWrightmouth, MI 82180-9605            Violet   \n",
       "1     4547 Archer Common\\nDiazchester, CA 06566-8576         DarkGreen   \n",
       "2  24645 Valerie Unions Suite 582\\nCobbborough, D...            Bisque   \n",
       "3   1414 David Throughway\\nPort Jason, OH 22070-1220       SaddleBrown   \n",
       "4  14023 Rodriguez Passage\\nPort Jacobville, PR 3...  MediumAquaMarine   \n",
       "\n",
       "   Avg. Session Length  Time on App  Time on Website  Length of Membership  \\\n",
       "0            34.497268    12.655651        39.577668              4.082621   \n",
       "1            31.926272    11.109461        37.268959              2.664034   \n",
       "2            33.000915    11.330278        37.110597              4.104543   \n",
       "3            34.305557    13.717514        36.721283              3.120179   \n",
       "4            33.330673    12.795189        37.536653              4.446308   \n",
       "\n",
       "   Yearly Amount Spent  \n",
       "0           587.951054  \n",
       "1           392.204933  \n",
       "2           487.547505  \n",
       "3           581.852344  \n",
       "4           599.406092  "
      ]
     },
     "execution_count": 4,
     "metadata": {},
     "output_type": "execute_result"
    }
   ],
   "source": [
    "dataset.head()"
   ]
  },
  {
   "cell_type": "code",
   "execution_count": 5,
   "metadata": {},
   "outputs": [
    {
     "data": {
      "text/html": [
       "<div>\n",
       "<style scoped>\n",
       "    .dataframe tbody tr th:only-of-type {\n",
       "        vertical-align: middle;\n",
       "    }\n",
       "\n",
       "    .dataframe tbody tr th {\n",
       "        vertical-align: top;\n",
       "    }\n",
       "\n",
       "    .dataframe thead th {\n",
       "        text-align: right;\n",
       "    }\n",
       "</style>\n",
       "<table border=\"1\" class=\"dataframe\">\n",
       "  <thead>\n",
       "    <tr style=\"text-align: right;\">\n",
       "      <th></th>\n",
       "      <th>Email</th>\n",
       "      <th>Address</th>\n",
       "      <th>Avatar</th>\n",
       "      <th>Avg. Session Length</th>\n",
       "      <th>Time on App</th>\n",
       "      <th>Time on Website</th>\n",
       "      <th>Length of Membership</th>\n",
       "      <th>Yearly Amount Spent</th>\n",
       "    </tr>\n",
       "  </thead>\n",
       "  <tbody>\n",
       "    <tr>\n",
       "      <th>495</th>\n",
       "      <td>lewisjessica@craig-evans.com</td>\n",
       "      <td>4483 Jones Motorway Suite 872\\nLake Jamiefurt,...</td>\n",
       "      <td>Tan</td>\n",
       "      <td>33.237660</td>\n",
       "      <td>13.566160</td>\n",
       "      <td>36.417985</td>\n",
       "      <td>3.746573</td>\n",
       "      <td>573.847438</td>\n",
       "    </tr>\n",
       "    <tr>\n",
       "      <th>496</th>\n",
       "      <td>katrina56@gmail.com</td>\n",
       "      <td>172 Owen Divide Suite 497\\nWest Richard, CA 19320</td>\n",
       "      <td>PaleVioletRed</td>\n",
       "      <td>34.702529</td>\n",
       "      <td>11.695736</td>\n",
       "      <td>37.190268</td>\n",
       "      <td>3.576526</td>\n",
       "      <td>529.049004</td>\n",
       "    </tr>\n",
       "    <tr>\n",
       "      <th>497</th>\n",
       "      <td>dale88@hotmail.com</td>\n",
       "      <td>0787 Andrews Ranch Apt. 633\\nSouth Chadburgh, ...</td>\n",
       "      <td>Cornsilk</td>\n",
       "      <td>32.646777</td>\n",
       "      <td>11.499409</td>\n",
       "      <td>38.332576</td>\n",
       "      <td>4.958264</td>\n",
       "      <td>551.620145</td>\n",
       "    </tr>\n",
       "    <tr>\n",
       "      <th>498</th>\n",
       "      <td>cwilson@hotmail.com</td>\n",
       "      <td>680 Jennifer Lodge Apt. 808\\nBrendachester, TX...</td>\n",
       "      <td>Teal</td>\n",
       "      <td>33.322501</td>\n",
       "      <td>12.391423</td>\n",
       "      <td>36.840086</td>\n",
       "      <td>2.336485</td>\n",
       "      <td>456.469510</td>\n",
       "    </tr>\n",
       "    <tr>\n",
       "      <th>499</th>\n",
       "      <td>hannahwilson@davidson.com</td>\n",
       "      <td>49791 Rachel Heights Apt. 898\\nEast Drewboroug...</td>\n",
       "      <td>DarkMagenta</td>\n",
       "      <td>33.715981</td>\n",
       "      <td>12.418808</td>\n",
       "      <td>35.771016</td>\n",
       "      <td>2.735160</td>\n",
       "      <td>497.778642</td>\n",
       "    </tr>\n",
       "  </tbody>\n",
       "</table>\n",
       "</div>"
      ],
      "text/plain": [
       "                            Email  \\\n",
       "495  lewisjessica@craig-evans.com   \n",
       "496           katrina56@gmail.com   \n",
       "497            dale88@hotmail.com   \n",
       "498           cwilson@hotmail.com   \n",
       "499     hannahwilson@davidson.com   \n",
       "\n",
       "                                               Address         Avatar  \\\n",
       "495  4483 Jones Motorway Suite 872\\nLake Jamiefurt,...            Tan   \n",
       "496  172 Owen Divide Suite 497\\nWest Richard, CA 19320  PaleVioletRed   \n",
       "497  0787 Andrews Ranch Apt. 633\\nSouth Chadburgh, ...       Cornsilk   \n",
       "498  680 Jennifer Lodge Apt. 808\\nBrendachester, TX...           Teal   \n",
       "499  49791 Rachel Heights Apt. 898\\nEast Drewboroug...    DarkMagenta   \n",
       "\n",
       "     Avg. Session Length  Time on App  Time on Website  Length of Membership  \\\n",
       "495            33.237660    13.566160        36.417985              3.746573   \n",
       "496            34.702529    11.695736        37.190268              3.576526   \n",
       "497            32.646777    11.499409        38.332576              4.958264   \n",
       "498            33.322501    12.391423        36.840086              2.336485   \n",
       "499            33.715981    12.418808        35.771016              2.735160   \n",
       "\n",
       "     Yearly Amount Spent  \n",
       "495           573.847438  \n",
       "496           529.049004  \n",
       "497           551.620145  \n",
       "498           456.469510  \n",
       "499           497.778642  "
      ]
     },
     "execution_count": 5,
     "metadata": {},
     "output_type": "execute_result"
    }
   ],
   "source": [
    "dataset.tail()\n"
   ]
  },
  {
   "cell_type": "code",
   "execution_count": 6,
   "metadata": {},
   "outputs": [],
   "source": [
    "x = dataset.iloc[:,3:7].values"
   ]
  },
  {
   "cell_type": "code",
   "execution_count": 7,
   "metadata": {},
   "outputs": [
    {
     "name": "stdout",
     "output_type": "stream",
     "text": [
      "[[34.49726773 12.65565115 39.57766802  4.08262063]\n",
      " [31.92627203 11.10946073 37.26895887  2.66403418]\n",
      " [33.00091476 11.33027806 37.11059744  4.1045432 ]\n",
      " ...\n",
      " [32.64677668 11.49940906 38.33257633  4.95826447]\n",
      " [33.32250105 12.39142299 36.84008573  2.33648467]\n",
      " [33.71598092 12.41880832 35.77101619  2.73515957]]\n"
     ]
    }
   ],
   "source": [
    "print(x)"
   ]
  },
  {
   "cell_type": "code",
   "execution_count": 8,
   "metadata": {},
   "outputs": [],
   "source": [
    "x = dataset.iloc[:,3:7].values\n",
    "y = dataset.iloc[:,5:6].values"
   ]
  },
  {
   "cell_type": "code",
   "execution_count": 9,
   "metadata": {},
   "outputs": [
    {
     "name": "stdout",
     "output_type": "stream",
     "text": [
      "[[39.57766802]\n",
      " [37.26895887]\n",
      " [37.11059744]\n",
      " [36.72128268]\n",
      " [37.5366533 ]\n",
      " [34.47687763]\n",
      " [36.68377615]\n",
      " [37.37335886]\n",
      " [37.53449734]\n",
      " [37.14516822]\n",
      " [37.22580613]\n",
      " [37.08792607]\n",
      " [37.42021558]\n",
      " [36.1446667 ]\n",
      " [36.61995708]\n",
      " [36.21376309]\n",
      " [34.89409275]\n",
      " [38.38513659]\n",
      " [38.24411459]\n",
      " [37.1905038 ]\n",
      " [37.60779252]\n",
      " [37.44102134]\n",
      " [38.73400629]\n",
      " [36.77260376]\n",
      " [37.63575588]\n",
      " [37.73852495]\n",
      " [36.43064962]\n",
      " [37.85177917]\n",
      " [35.29308775]\n",
      " [37.27781174]\n",
      " [36.16364817]\n",
      " [35.62244242]\n",
      " [35.69417499]\n",
      " [38.87804051]\n",
      " [35.36862633]\n",
      " [38.768641  ]\n",
      " [36.76572236]\n",
      " [37.0443614 ]\n",
      " [37.38831487]\n",
      " [36.37147981]\n",
      " [37.53429101]\n",
      " [37.49669015]\n",
      " [37.14286198]\n",
      " [36.88808605]\n",
      " [36.11243501]\n",
      " [39.13109673]\n",
      " [37.33544589]\n",
      " [36.46200326]\n",
      " [36.58272777]\n",
      " [36.5944567 ]\n",
      " [37.78026469]\n",
      " [37.26687826]\n",
      " [37.4534051 ]\n",
      " [35.9334493 ]\n",
      " [38.46832111]\n",
      " [35.25224202]\n",
      " [39.25293095]\n",
      " [36.17312563]\n",
      " [36.81401056]\n",
      " [37.27122169]\n",
      " [38.05260975]\n",
      " [36.49399255]\n",
      " [37.99702801]\n",
      " [37.40874848]\n",
      " [36.60077705]\n",
      " [37.15762409]\n",
      " [35.35844431]\n",
      " [36.37506611]\n",
      " [37.68040323]\n",
      " [40.00518164]\n",
      " [36.2650007 ]\n",
      " [36.15719115]\n",
      " [38.00658318]\n",
      " [37.03153922]\n",
      " [38.26035344]\n",
      " [38.73086174]\n",
      " [36.62883429]\n",
      " [35.89243163]\n",
      " [38.21257083]\n",
      " [36.91463331]\n",
      " [39.60037647]\n",
      " [35.88399439]\n",
      " [37.05891282]\n",
      " [37.78114256]\n",
      " [36.15725594]\n",
      " [36.18253928]\n",
      " [37.15192066]\n",
      " [36.81909551]\n",
      " [36.95161668]\n",
      " [36.1050005 ]\n",
      " [37.8752191 ]\n",
      " [36.77312349]\n",
      " [36.05024078]\n",
      " [37.72438616]\n",
      " [36.6338567 ]\n",
      " [38.63362565]\n",
      " [38.06341359]\n",
      " [37.82739423]\n",
      " [39.07440021]\n",
      " [35.89035796]\n",
      " [35.99048895]\n",
      " [37.38531755]\n",
      " [37.58019043]\n",
      " [36.2620318 ]\n",
      " [38.07445242]\n",
      " [35.84582711]\n",
      " [36.15246209]\n",
      " [37.71250864]\n",
      " [38.16643556]\n",
      " [38.50300885]\n",
      " [37.32533422]\n",
      " [37.71598618]\n",
      " [38.41504158]\n",
      " [37.30968877]\n",
      " [35.60082055]\n",
      " [37.69230086]\n",
      " [36.70105232]\n",
      " [35.9990993 ]\n",
      " [38.3099079 ]\n",
      " [37.54052036]\n",
      " [35.00748226]\n",
      " [37.67321037]\n",
      " [37.38794554]\n",
      " [36.54966799]\n",
      " [37.57016384]\n",
      " [37.09326487]\n",
      " [36.63465233]\n",
      " [37.14600653]\n",
      " [36.71413784]\n",
      " [37.52642103]\n",
      " [37.24503247]\n",
      " [38.94882503]\n",
      " [37.41413357]\n",
      " [36.59911235]\n",
      " [37.42454792]\n",
      " [36.10091445]\n",
      " [36.59436168]\n",
      " [36.49440648]\n",
      " [37.45837473]\n",
      " [37.32728269]\n",
      " [36.59937399]\n",
      " [35.97765171]\n",
      " [35.7305524 ]\n",
      " [39.29404346]\n",
      " [38.2747022 ]\n",
      " [36.51838359]\n",
      " [37.23200331]\n",
      " [37.33866962]\n",
      " [36.95155521]\n",
      " [36.58443762]\n",
      " [38.30720401]\n",
      " [37.4311591 ]\n",
      " [37.39649748]\n",
      " [36.9663889 ]\n",
      " [36.95964319]\n",
      " [37.23880567]\n",
      " [37.32784804]\n",
      " [33.91384725]\n",
      " [39.09462703]\n",
      " [38.30447119]\n",
      " [38.03910939]\n",
      " [35.01280603]\n",
      " [38.3113649 ]\n",
      " [36.93615938]\n",
      " [37.65861691]\n",
      " [37.66110668]\n",
      " [38.92408705]\n",
      " [35.03785616]\n",
      " [36.40774745]\n",
      " [37.63300942]\n",
      " [37.57883524]\n",
      " [36.87831537]\n",
      " [35.90729843]\n",
      " [36.93988205]\n",
      " [38.83567008]\n",
      " [37.48091198]\n",
      " [38.57651555]\n",
      " [36.81385766]\n",
      " [35.67425603]\n",
      " [37.81915511]\n",
      " [37.95968432]\n",
      " [38.85604171]\n",
      " [37.67924462]\n",
      " [37.25305774]\n",
      " [36.08693433]\n",
      " [37.0646212 ]\n",
      " [36.54550623]\n",
      " [37.96439033]\n",
      " [36.09424195]\n",
      " [38.23260623]\n",
      " [37.63529941]\n",
      " [37.1531516 ]\n",
      " [35.49396408]\n",
      " [36.33780003]\n",
      " [37.90913872]\n",
      " [37.27863979]\n",
      " [37.10203133]\n",
      " [37.42676892]\n",
      " [37.28139283]\n",
      " [35.90772143]\n",
      " [36.67822227]\n",
      " [36.04545942]\n",
      " [37.03951365]\n",
      " [38.6887091 ]\n",
      " [35.4598628 ]\n",
      " [37.95201319]\n",
      " [38.25297827]\n",
      " [36.77601658]\n",
      " [35.5338635 ]\n",
      " [37.7773658 ]\n",
      " [38.13171203]\n",
      " [36.05964598]\n",
      " [38.76429717]\n",
      " [35.77311639]\n",
      " [36.5446641 ]\n",
      " [34.89198327]\n",
      " [38.35495987]\n",
      " [36.22355746]\n",
      " [37.12234521]\n",
      " [35.73870747]\n",
      " [37.7436197 ]\n",
      " [37.67502073]\n",
      " [38.58585476]\n",
      " [36.28872395]\n",
      " [37.71777057]\n",
      " [36.14390846]\n",
      " [37.07361617]\n",
      " [37.6056528 ]\n",
      " [36.65127792]\n",
      " [37.95148946]\n",
      " [35.57484167]\n",
      " [37.25803146]\n",
      " [37.79223754]\n",
      " [37.33281446]\n",
      " [37.07679516]\n",
      " [35.96889569]\n",
      " [37.37011822]\n",
      " [37.06708997]\n",
      " [36.9711951 ]\n",
      " [38.57360523]\n",
      " [36.90937821]\n",
      " [36.09722093]\n",
      " [39.08156475]\n",
      " [36.94612578]\n",
      " [35.96566746]\n",
      " [37.68933698]\n",
      " [36.32365247]\n",
      " [37.52319665]\n",
      " [36.94795369]\n",
      " [36.84473382]\n",
      " [37.19279353]\n",
      " [34.84561239]\n",
      " [36.13389429]\n",
      " [36.19975347]\n",
      " [36.67387836]\n",
      " [39.22071295]\n",
      " [36.3602472 ]\n",
      " [36.63610412]\n",
      " [38.99332245]\n",
      " [37.37276215]\n",
      " [37.3741835 ]\n",
      " [36.65520808]\n",
      " [36.85481082]\n",
      " [38.23894085]\n",
      " [36.5273883 ]\n",
      " [37.34126616]\n",
      " [37.97982686]\n",
      " [36.85388246]\n",
      " [36.82275323]\n",
      " [37.29204471]\n",
      " [38.65509454]\n",
      " [36.22604169]\n",
      " [36.76860309]\n",
      " [36.57513378]\n",
      " [35.66993517]\n",
      " [37.74560774]\n",
      " [36.87631323]\n",
      " [36.89729461]\n",
      " [37.7446997 ]\n",
      " [37.02687697]\n",
      " [37.55088041]\n",
      " [38.41946853]\n",
      " [37.78903635]\n",
      " [35.67572763]\n",
      " [38.7170763 ]\n",
      " [36.62077386]\n",
      " [35.72182733]\n",
      " [39.06886445]\n",
      " [35.74277913]\n",
      " [38.55103029]\n",
      " [37.26387556]\n",
      " [37.03479129]\n",
      " [35.94639915]\n",
      " [34.81063145]\n",
      " [37.24032955]\n",
      " [36.19083324]\n",
      " [37.06168877]\n",
      " [38.61733445]\n",
      " [35.62658733]\n",
      " [35.97656497]\n",
      " [36.98591348]\n",
      " [38.0669296 ]\n",
      " [37.80697767]\n",
      " [36.92504304]\n",
      " [36.57503098]\n",
      " [36.33952101]\n",
      " [36.25781912]\n",
      " [37.36839124]\n",
      " [36.51708576]\n",
      " [35.46240008]\n",
      " [36.54860515]\n",
      " [36.54759628]\n",
      " [36.31576315]\n",
      " [35.62253059]\n",
      " [37.87095205]\n",
      " [37.53453024]\n",
      " [37.27757338]\n",
      " [36.60950715]\n",
      " [36.90022076]\n",
      " [37.19419105]\n",
      " [38.29611037]\n",
      " [37.33310742]\n",
      " [36.14579171]\n",
      " [37.64629179]\n",
      " [37.22939452]\n",
      " [36.31272657]\n",
      " [38.44276669]\n",
      " [37.38718053]\n",
      " [38.04031367]\n",
      " [35.92159519]\n",
      " [37.08884658]\n",
      " [37.10881638]\n",
      " [37.93518905]\n",
      " [35.86244708]\n",
      " [36.59586795]\n",
      " [39.2488039 ]\n",
      " [38.26906069]\n",
      " [37.42899737]\n",
      " [38.07066426]\n",
      " [37.33224075]\n",
      " [36.77386137]\n",
      " [37.76668677]\n",
      " [35.77778217]\n",
      " [37.95780983]\n",
      " [37.84065508]\n",
      " [37.97738874]\n",
      " [35.82346667]\n",
      " [37.83397173]\n",
      " [34.89782769]\n",
      " [36.37750903]\n",
      " [37.33359061]\n",
      " [38.19748325]\n",
      " [36.88119241]\n",
      " [35.90025278]\n",
      " [35.12882235]\n",
      " [35.97457811]\n",
      " [37.7636904 ]\n",
      " [37.49189221]\n",
      " [35.71626916]\n",
      " [37.6504002 ]\n",
      " [36.04898625]\n",
      " [39.0451557 ]\n",
      " [36.91495155]\n",
      " [35.4442647 ]\n",
      " [37.92270381]\n",
      " [38.00182747]\n",
      " [36.84149164]\n",
      " [35.9389625 ]\n",
      " [36.2321098 ]\n",
      " [37.90601452]\n",
      " [37.76304108]\n",
      " [38.11045691]\n",
      " [36.95696543]\n",
      " [37.08831936]\n",
      " [38.04345265]\n",
      " [36.90818962]\n",
      " [37.68546549]\n",
      " [35.78392374]\n",
      " [36.66579137]\n",
      " [38.29572526]\n",
      " [35.55077227]\n",
      " [37.95194632]\n",
      " [37.34573893]\n",
      " [35.42933439]\n",
      " [36.1891318 ]\n",
      " [34.57402759]\n",
      " [38.95246252]\n",
      " [34.48718475]\n",
      " [36.1704942 ]\n",
      " [37.02715036]\n",
      " [36.88214908]\n",
      " [37.31770495]\n",
      " [37.1280395 ]\n",
      " [36.1553362 ]\n",
      " [38.38195597]\n",
      " [37.86921694]\n",
      " [35.56543624]\n",
      " [36.04620352]\n",
      " [38.91874854]\n",
      " [37.19936753]\n",
      " [37.32981863]\n",
      " [36.51734612]\n",
      " [37.30596142]\n",
      " [38.31564796]\n",
      " [36.68836654]\n",
      " [37.05261631]\n",
      " [35.56917032]\n",
      " [38.50588333]\n",
      " [36.99529017]\n",
      " [35.18912244]\n",
      " [38.7756653 ]\n",
      " [36.98504142]\n",
      " [35.93804523]\n",
      " [36.7290294 ]\n",
      " [37.6269068 ]\n",
      " [38.79123469]\n",
      " [37.63731096]\n",
      " [36.9539597 ]\n",
      " [37.07437107]\n",
      " [36.01231723]\n",
      " [37.14209369]\n",
      " [36.72527683]\n",
      " [36.39368386]\n",
      " [36.683393  ]\n",
      " [37.86144726]\n",
      " [36.45689841]\n",
      " [37.23984661]\n",
      " [39.67259096]\n",
      " [37.02226899]\n",
      " [38.42286529]\n",
      " [38.40137369]\n",
      " [36.61119878]\n",
      " [35.63211222]\n",
      " [36.30854529]\n",
      " [36.35250277]\n",
      " [37.02347924]\n",
      " [36.08964366]\n",
      " [39.24096484]\n",
      " [37.18144731]\n",
      " [37.30536188]\n",
      " [36.83153585]\n",
      " [36.97937237]\n",
      " [35.90675637]\n",
      " [37.64583879]\n",
      " [35.45679815]\n",
      " [35.63395395]\n",
      " [36.48632507]\n",
      " [37.80550943]\n",
      " [37.68028761]\n",
      " [37.68387537]\n",
      " [37.64780806]\n",
      " [36.83936583]\n",
      " [36.80837606]\n",
      " [37.72236711]\n",
      " [36.32214092]\n",
      " [35.7661535 ]\n",
      " [34.7797505 ]\n",
      " [37.03427958]\n",
      " [36.86218335]\n",
      " [37.42527868]\n",
      " [36.83865679]\n",
      " [35.26149812]\n",
      " [37.21115258]\n",
      " [36.92976156]\n",
      " [38.40632901]\n",
      " [37.67232248]\n",
      " [34.64980005]\n",
      " [36.36684325]\n",
      " [37.48704925]\n",
      " [36.67395274]\n",
      " [36.59928909]\n",
      " [36.37827101]\n",
      " [38.86023443]\n",
      " [36.16646339]\n",
      " [37.0716432 ]\n",
      " [36.29889308]\n",
      " [38.68258378]\n",
      " [36.16604163]\n",
      " [36.87502581]\n",
      " [38.1265198 ]\n",
      " [35.76932963]\n",
      " [35.53602453]\n",
      " [36.07455114]\n",
      " [37.19842782]\n",
      " [36.8745436 ]\n",
      " [36.35523488]\n",
      " [36.53409567]\n",
      " [36.0586476 ]\n",
      " [38.18776368]\n",
      " [37.13312676]\n",
      " [37.68487728]\n",
      " [36.81293413]\n",
      " [37.83544773]\n",
      " [35.53914243]\n",
      " [37.96597162]\n",
      " [36.4179848 ]\n",
      " [37.19026771]\n",
      " [38.33257633]\n",
      " [36.84008573]\n",
      " [35.77101619]]\n"
     ]
    }
   ],
   "source": [
    "print(y)"
   ]
  },
  {
   "cell_type": "code",
   "execution_count": 10,
   "metadata": {},
   "outputs": [
    {
     "data": {
      "text/plain": [
       "array([[34.49726773, 12.65565115, 39.57766802,  4.08262063],\n",
       "       [31.92627203, 11.10946073, 37.26895887,  2.66403418],\n",
       "       [33.00091476, 11.33027806, 37.11059744,  4.1045432 ],\n",
       "       ...,\n",
       "       [32.64677668, 11.49940906, 38.33257633,  4.95826447],\n",
       "       [33.32250105, 12.39142299, 36.84008573,  2.33648467],\n",
       "       [33.71598092, 12.41880832, 35.77101619,  2.73515957]])"
      ]
     },
     "execution_count": 10,
     "metadata": {},
     "output_type": "execute_result"
    }
   ],
   "source": [
    "x"
   ]
  },
  {
   "cell_type": "code",
   "execution_count": 11,
   "metadata": {},
   "outputs": [
    {
     "data": {
      "text/plain": [
       "array([[39.57766802],\n",
       "       [37.26895887],\n",
       "       [37.11059744],\n",
       "       [36.72128268],\n",
       "       [37.5366533 ],\n",
       "       [34.47687763],\n",
       "       [36.68377615],\n",
       "       [37.37335886],\n",
       "       [37.53449734],\n",
       "       [37.14516822],\n",
       "       [37.22580613],\n",
       "       [37.08792607],\n",
       "       [37.42021558],\n",
       "       [36.1446667 ],\n",
       "       [36.61995708],\n",
       "       [36.21376309],\n",
       "       [34.89409275],\n",
       "       [38.38513659],\n",
       "       [38.24411459],\n",
       "       [37.1905038 ],\n",
       "       [37.60779252],\n",
       "       [37.44102134],\n",
       "       [38.73400629],\n",
       "       [36.77260376],\n",
       "       [37.63575588],\n",
       "       [37.73852495],\n",
       "       [36.43064962],\n",
       "       [37.85177917],\n",
       "       [35.29308775],\n",
       "       [37.27781174],\n",
       "       [36.16364817],\n",
       "       [35.62244242],\n",
       "       [35.69417499],\n",
       "       [38.87804051],\n",
       "       [35.36862633],\n",
       "       [38.768641  ],\n",
       "       [36.76572236],\n",
       "       [37.0443614 ],\n",
       "       [37.38831487],\n",
       "       [36.37147981],\n",
       "       [37.53429101],\n",
       "       [37.49669015],\n",
       "       [37.14286198],\n",
       "       [36.88808605],\n",
       "       [36.11243501],\n",
       "       [39.13109673],\n",
       "       [37.33544589],\n",
       "       [36.46200326],\n",
       "       [36.58272777],\n",
       "       [36.5944567 ],\n",
       "       [37.78026469],\n",
       "       [37.26687826],\n",
       "       [37.4534051 ],\n",
       "       [35.9334493 ],\n",
       "       [38.46832111],\n",
       "       [35.25224202],\n",
       "       [39.25293095],\n",
       "       [36.17312563],\n",
       "       [36.81401056],\n",
       "       [37.27122169],\n",
       "       [38.05260975],\n",
       "       [36.49399255],\n",
       "       [37.99702801],\n",
       "       [37.40874848],\n",
       "       [36.60077705],\n",
       "       [37.15762409],\n",
       "       [35.35844431],\n",
       "       [36.37506611],\n",
       "       [37.68040323],\n",
       "       [40.00518164],\n",
       "       [36.2650007 ],\n",
       "       [36.15719115],\n",
       "       [38.00658318],\n",
       "       [37.03153922],\n",
       "       [38.26035344],\n",
       "       [38.73086174],\n",
       "       [36.62883429],\n",
       "       [35.89243163],\n",
       "       [38.21257083],\n",
       "       [36.91463331],\n",
       "       [39.60037647],\n",
       "       [35.88399439],\n",
       "       [37.05891282],\n",
       "       [37.78114256],\n",
       "       [36.15725594],\n",
       "       [36.18253928],\n",
       "       [37.15192066],\n",
       "       [36.81909551],\n",
       "       [36.95161668],\n",
       "       [36.1050005 ],\n",
       "       [37.8752191 ],\n",
       "       [36.77312349],\n",
       "       [36.05024078],\n",
       "       [37.72438616],\n",
       "       [36.6338567 ],\n",
       "       [38.63362565],\n",
       "       [38.06341359],\n",
       "       [37.82739423],\n",
       "       [39.07440021],\n",
       "       [35.89035796],\n",
       "       [35.99048895],\n",
       "       [37.38531755],\n",
       "       [37.58019043],\n",
       "       [36.2620318 ],\n",
       "       [38.07445242],\n",
       "       [35.84582711],\n",
       "       [36.15246209],\n",
       "       [37.71250864],\n",
       "       [38.16643556],\n",
       "       [38.50300885],\n",
       "       [37.32533422],\n",
       "       [37.71598618],\n",
       "       [38.41504158],\n",
       "       [37.30968877],\n",
       "       [35.60082055],\n",
       "       [37.69230086],\n",
       "       [36.70105232],\n",
       "       [35.9990993 ],\n",
       "       [38.3099079 ],\n",
       "       [37.54052036],\n",
       "       [35.00748226],\n",
       "       [37.67321037],\n",
       "       [37.38794554],\n",
       "       [36.54966799],\n",
       "       [37.57016384],\n",
       "       [37.09326487],\n",
       "       [36.63465233],\n",
       "       [37.14600653],\n",
       "       [36.71413784],\n",
       "       [37.52642103],\n",
       "       [37.24503247],\n",
       "       [38.94882503],\n",
       "       [37.41413357],\n",
       "       [36.59911235],\n",
       "       [37.42454792],\n",
       "       [36.10091445],\n",
       "       [36.59436168],\n",
       "       [36.49440648],\n",
       "       [37.45837473],\n",
       "       [37.32728269],\n",
       "       [36.59937399],\n",
       "       [35.97765171],\n",
       "       [35.7305524 ],\n",
       "       [39.29404346],\n",
       "       [38.2747022 ],\n",
       "       [36.51838359],\n",
       "       [37.23200331],\n",
       "       [37.33866962],\n",
       "       [36.95155521],\n",
       "       [36.58443762],\n",
       "       [38.30720401],\n",
       "       [37.4311591 ],\n",
       "       [37.39649748],\n",
       "       [36.9663889 ],\n",
       "       [36.95964319],\n",
       "       [37.23880567],\n",
       "       [37.32784804],\n",
       "       [33.91384725],\n",
       "       [39.09462703],\n",
       "       [38.30447119],\n",
       "       [38.03910939],\n",
       "       [35.01280603],\n",
       "       [38.3113649 ],\n",
       "       [36.93615938],\n",
       "       [37.65861691],\n",
       "       [37.66110668],\n",
       "       [38.92408705],\n",
       "       [35.03785616],\n",
       "       [36.40774745],\n",
       "       [37.63300942],\n",
       "       [37.57883524],\n",
       "       [36.87831537],\n",
       "       [35.90729843],\n",
       "       [36.93988205],\n",
       "       [38.83567008],\n",
       "       [37.48091198],\n",
       "       [38.57651555],\n",
       "       [36.81385766],\n",
       "       [35.67425603],\n",
       "       [37.81915511],\n",
       "       [37.95968432],\n",
       "       [38.85604171],\n",
       "       [37.67924462],\n",
       "       [37.25305774],\n",
       "       [36.08693433],\n",
       "       [37.0646212 ],\n",
       "       [36.54550623],\n",
       "       [37.96439033],\n",
       "       [36.09424195],\n",
       "       [38.23260623],\n",
       "       [37.63529941],\n",
       "       [37.1531516 ],\n",
       "       [35.49396408],\n",
       "       [36.33780003],\n",
       "       [37.90913872],\n",
       "       [37.27863979],\n",
       "       [37.10203133],\n",
       "       [37.42676892],\n",
       "       [37.28139283],\n",
       "       [35.90772143],\n",
       "       [36.67822227],\n",
       "       [36.04545942],\n",
       "       [37.03951365],\n",
       "       [38.6887091 ],\n",
       "       [35.4598628 ],\n",
       "       [37.95201319],\n",
       "       [38.25297827],\n",
       "       [36.77601658],\n",
       "       [35.5338635 ],\n",
       "       [37.7773658 ],\n",
       "       [38.13171203],\n",
       "       [36.05964598],\n",
       "       [38.76429717],\n",
       "       [35.77311639],\n",
       "       [36.5446641 ],\n",
       "       [34.89198327],\n",
       "       [38.35495987],\n",
       "       [36.22355746],\n",
       "       [37.12234521],\n",
       "       [35.73870747],\n",
       "       [37.7436197 ],\n",
       "       [37.67502073],\n",
       "       [38.58585476],\n",
       "       [36.28872395],\n",
       "       [37.71777057],\n",
       "       [36.14390846],\n",
       "       [37.07361617],\n",
       "       [37.6056528 ],\n",
       "       [36.65127792],\n",
       "       [37.95148946],\n",
       "       [35.57484167],\n",
       "       [37.25803146],\n",
       "       [37.79223754],\n",
       "       [37.33281446],\n",
       "       [37.07679516],\n",
       "       [35.96889569],\n",
       "       [37.37011822],\n",
       "       [37.06708997],\n",
       "       [36.9711951 ],\n",
       "       [38.57360523],\n",
       "       [36.90937821],\n",
       "       [36.09722093],\n",
       "       [39.08156475],\n",
       "       [36.94612578],\n",
       "       [35.96566746],\n",
       "       [37.68933698],\n",
       "       [36.32365247],\n",
       "       [37.52319665],\n",
       "       [36.94795369],\n",
       "       [36.84473382],\n",
       "       [37.19279353],\n",
       "       [34.84561239],\n",
       "       [36.13389429],\n",
       "       [36.19975347],\n",
       "       [36.67387836],\n",
       "       [39.22071295],\n",
       "       [36.3602472 ],\n",
       "       [36.63610412],\n",
       "       [38.99332245],\n",
       "       [37.37276215],\n",
       "       [37.3741835 ],\n",
       "       [36.65520808],\n",
       "       [36.85481082],\n",
       "       [38.23894085],\n",
       "       [36.5273883 ],\n",
       "       [37.34126616],\n",
       "       [37.97982686],\n",
       "       [36.85388246],\n",
       "       [36.82275323],\n",
       "       [37.29204471],\n",
       "       [38.65509454],\n",
       "       [36.22604169],\n",
       "       [36.76860309],\n",
       "       [36.57513378],\n",
       "       [35.66993517],\n",
       "       [37.74560774],\n",
       "       [36.87631323],\n",
       "       [36.89729461],\n",
       "       [37.7446997 ],\n",
       "       [37.02687697],\n",
       "       [37.55088041],\n",
       "       [38.41946853],\n",
       "       [37.78903635],\n",
       "       [35.67572763],\n",
       "       [38.7170763 ],\n",
       "       [36.62077386],\n",
       "       [35.72182733],\n",
       "       [39.06886445],\n",
       "       [35.74277913],\n",
       "       [38.55103029],\n",
       "       [37.26387556],\n",
       "       [37.03479129],\n",
       "       [35.94639915],\n",
       "       [34.81063145],\n",
       "       [37.24032955],\n",
       "       [36.19083324],\n",
       "       [37.06168877],\n",
       "       [38.61733445],\n",
       "       [35.62658733],\n",
       "       [35.97656497],\n",
       "       [36.98591348],\n",
       "       [38.0669296 ],\n",
       "       [37.80697767],\n",
       "       [36.92504304],\n",
       "       [36.57503098],\n",
       "       [36.33952101],\n",
       "       [36.25781912],\n",
       "       [37.36839124],\n",
       "       [36.51708576],\n",
       "       [35.46240008],\n",
       "       [36.54860515],\n",
       "       [36.54759628],\n",
       "       [36.31576315],\n",
       "       [35.62253059],\n",
       "       [37.87095205],\n",
       "       [37.53453024],\n",
       "       [37.27757338],\n",
       "       [36.60950715],\n",
       "       [36.90022076],\n",
       "       [37.19419105],\n",
       "       [38.29611037],\n",
       "       [37.33310742],\n",
       "       [36.14579171],\n",
       "       [37.64629179],\n",
       "       [37.22939452],\n",
       "       [36.31272657],\n",
       "       [38.44276669],\n",
       "       [37.38718053],\n",
       "       [38.04031367],\n",
       "       [35.92159519],\n",
       "       [37.08884658],\n",
       "       [37.10881638],\n",
       "       [37.93518905],\n",
       "       [35.86244708],\n",
       "       [36.59586795],\n",
       "       [39.2488039 ],\n",
       "       [38.26906069],\n",
       "       [37.42899737],\n",
       "       [38.07066426],\n",
       "       [37.33224075],\n",
       "       [36.77386137],\n",
       "       [37.76668677],\n",
       "       [35.77778217],\n",
       "       [37.95780983],\n",
       "       [37.84065508],\n",
       "       [37.97738874],\n",
       "       [35.82346667],\n",
       "       [37.83397173],\n",
       "       [34.89782769],\n",
       "       [36.37750903],\n",
       "       [37.33359061],\n",
       "       [38.19748325],\n",
       "       [36.88119241],\n",
       "       [35.90025278],\n",
       "       [35.12882235],\n",
       "       [35.97457811],\n",
       "       [37.7636904 ],\n",
       "       [37.49189221],\n",
       "       [35.71626916],\n",
       "       [37.6504002 ],\n",
       "       [36.04898625],\n",
       "       [39.0451557 ],\n",
       "       [36.91495155],\n",
       "       [35.4442647 ],\n",
       "       [37.92270381],\n",
       "       [38.00182747],\n",
       "       [36.84149164],\n",
       "       [35.9389625 ],\n",
       "       [36.2321098 ],\n",
       "       [37.90601452],\n",
       "       [37.76304108],\n",
       "       [38.11045691],\n",
       "       [36.95696543],\n",
       "       [37.08831936],\n",
       "       [38.04345265],\n",
       "       [36.90818962],\n",
       "       [37.68546549],\n",
       "       [35.78392374],\n",
       "       [36.66579137],\n",
       "       [38.29572526],\n",
       "       [35.55077227],\n",
       "       [37.95194632],\n",
       "       [37.34573893],\n",
       "       [35.42933439],\n",
       "       [36.1891318 ],\n",
       "       [34.57402759],\n",
       "       [38.95246252],\n",
       "       [34.48718475],\n",
       "       [36.1704942 ],\n",
       "       [37.02715036],\n",
       "       [36.88214908],\n",
       "       [37.31770495],\n",
       "       [37.1280395 ],\n",
       "       [36.1553362 ],\n",
       "       [38.38195597],\n",
       "       [37.86921694],\n",
       "       [35.56543624],\n",
       "       [36.04620352],\n",
       "       [38.91874854],\n",
       "       [37.19936753],\n",
       "       [37.32981863],\n",
       "       [36.51734612],\n",
       "       [37.30596142],\n",
       "       [38.31564796],\n",
       "       [36.68836654],\n",
       "       [37.05261631],\n",
       "       [35.56917032],\n",
       "       [38.50588333],\n",
       "       [36.99529017],\n",
       "       [35.18912244],\n",
       "       [38.7756653 ],\n",
       "       [36.98504142],\n",
       "       [35.93804523],\n",
       "       [36.7290294 ],\n",
       "       [37.6269068 ],\n",
       "       [38.79123469],\n",
       "       [37.63731096],\n",
       "       [36.9539597 ],\n",
       "       [37.07437107],\n",
       "       [36.01231723],\n",
       "       [37.14209369],\n",
       "       [36.72527683],\n",
       "       [36.39368386],\n",
       "       [36.683393  ],\n",
       "       [37.86144726],\n",
       "       [36.45689841],\n",
       "       [37.23984661],\n",
       "       [39.67259096],\n",
       "       [37.02226899],\n",
       "       [38.42286529],\n",
       "       [38.40137369],\n",
       "       [36.61119878],\n",
       "       [35.63211222],\n",
       "       [36.30854529],\n",
       "       [36.35250277],\n",
       "       [37.02347924],\n",
       "       [36.08964366],\n",
       "       [39.24096484],\n",
       "       [37.18144731],\n",
       "       [37.30536188],\n",
       "       [36.83153585],\n",
       "       [36.97937237],\n",
       "       [35.90675637],\n",
       "       [37.64583879],\n",
       "       [35.45679815],\n",
       "       [35.63395395],\n",
       "       [36.48632507],\n",
       "       [37.80550943],\n",
       "       [37.68028761],\n",
       "       [37.68387537],\n",
       "       [37.64780806],\n",
       "       [36.83936583],\n",
       "       [36.80837606],\n",
       "       [37.72236711],\n",
       "       [36.32214092],\n",
       "       [35.7661535 ],\n",
       "       [34.7797505 ],\n",
       "       [37.03427958],\n",
       "       [36.86218335],\n",
       "       [37.42527868],\n",
       "       [36.83865679],\n",
       "       [35.26149812],\n",
       "       [37.21115258],\n",
       "       [36.92976156],\n",
       "       [38.40632901],\n",
       "       [37.67232248],\n",
       "       [34.64980005],\n",
       "       [36.36684325],\n",
       "       [37.48704925],\n",
       "       [36.67395274],\n",
       "       [36.59928909],\n",
       "       [36.37827101],\n",
       "       [38.86023443],\n",
       "       [36.16646339],\n",
       "       [37.0716432 ],\n",
       "       [36.29889308],\n",
       "       [38.68258378],\n",
       "       [36.16604163],\n",
       "       [36.87502581],\n",
       "       [38.1265198 ],\n",
       "       [35.76932963],\n",
       "       [35.53602453],\n",
       "       [36.07455114],\n",
       "       [37.19842782],\n",
       "       [36.8745436 ],\n",
       "       [36.35523488],\n",
       "       [36.53409567],\n",
       "       [36.0586476 ],\n",
       "       [38.18776368],\n",
       "       [37.13312676],\n",
       "       [37.68487728],\n",
       "       [36.81293413],\n",
       "       [37.83544773],\n",
       "       [35.53914243],\n",
       "       [37.96597162],\n",
       "       [36.4179848 ],\n",
       "       [37.19026771],\n",
       "       [38.33257633],\n",
       "       [36.84008573],\n",
       "       [35.77101619]])"
      ]
     },
     "execution_count": 11,
     "metadata": {},
     "output_type": "execute_result"
    }
   ],
   "source": [
    "y"
   ]
  },
  {
   "cell_type": "code",
   "execution_count": 12,
   "metadata": {},
   "outputs": [],
   "source": [
    "x = dataset.iloc[:,3:7].values\n",
    "y = dataset.iloc[:,5:6].values\n",
    "X = dataset.iloc[:,4:5].values"
   ]
  },
  {
   "cell_type": "code",
   "execution_count": 13,
   "metadata": {},
   "outputs": [
    {
     "ename": "NameError",
     "evalue": "name 'plt' is not defined",
     "output_type": "error",
     "traceback": [
      "\u001b[1;31m---------------------------------------------------------------------------\u001b[0m",
      "\u001b[1;31mNameError\u001b[0m                                 Traceback (most recent call last)",
      "\u001b[1;32m<ipython-input-13-62f7b9d6e299>\u001b[0m in \u001b[0;36m<module>\u001b[1;34m()\u001b[0m\n\u001b[1;32m----> 1\u001b[1;33m \u001b[0mfig\u001b[0m \u001b[1;33m=\u001b[0m \u001b[0mplt\u001b[0m\u001b[1;33m.\u001b[0m\u001b[0mfigure\u001b[0m\u001b[1;33m(\u001b[0m\u001b[1;33m)\u001b[0m\u001b[1;33m\u001b[0m\u001b[0m\n\u001b[0m",
      "\u001b[1;31mNameError\u001b[0m: name 'plt' is not defined"
     ]
    }
   ],
   "source": [
    "X = dataset.iloc[:,4:5].values\n",
    "fig = plt.figure()"
   ]
  },
  {
   "cell_type": "code",
   "execution_count": 14,
   "metadata": {},
   "outputs": [],
   "source": [
    "import matplotlib as mlt"
   ]
  },
  {
   "cell_type": "code",
   "execution_count": 15,
   "metadata": {},
   "outputs": [
    {
     "ename": "NameError",
     "evalue": "name 'plt' is not defined",
     "output_type": "error",
     "traceback": [
      "\u001b[1;31m---------------------------------------------------------------------------\u001b[0m",
      "\u001b[1;31mNameError\u001b[0m                                 Traceback (most recent call last)",
      "\u001b[1;32m<ipython-input-15-62f7b9d6e299>\u001b[0m in \u001b[0;36m<module>\u001b[1;34m()\u001b[0m\n\u001b[1;32m----> 1\u001b[1;33m \u001b[0mfig\u001b[0m \u001b[1;33m=\u001b[0m \u001b[0mplt\u001b[0m\u001b[1;33m.\u001b[0m\u001b[0mfigure\u001b[0m\u001b[1;33m(\u001b[0m\u001b[1;33m)\u001b[0m\u001b[1;33m\u001b[0m\u001b[0m\n\u001b[0m",
      "\u001b[1;31mNameError\u001b[0m: name 'plt' is not defined"
     ]
    }
   ],
   "source": [
    "x = dataset.iloc[:,3:7].values\n",
    "y = dataset.iloc[:,5:6].values\n",
    "X = dataset.iloc[:,4:5].values\n",
    "fig = plt.figure()"
   ]
  },
  {
   "cell_type": "code",
   "execution_count": 16,
   "metadata": {},
   "outputs": [],
   "source": [
    "import matplotlib as plt"
   ]
  },
  {
   "cell_type": "code",
   "execution_count": 17,
   "metadata": {},
   "outputs": [
    {
     "ename": "AttributeError",
     "evalue": "'module' object has no attribute 'figure'",
     "output_type": "error",
     "traceback": [
      "\u001b[1;31m---------------------------------------------------------------------------\u001b[0m",
      "\u001b[1;31mAttributeError\u001b[0m                            Traceback (most recent call last)",
      "\u001b[1;32m<ipython-input-17-62f7b9d6e299>\u001b[0m in \u001b[0;36m<module>\u001b[1;34m()\u001b[0m\n\u001b[1;32m----> 1\u001b[1;33m \u001b[0mfig\u001b[0m \u001b[1;33m=\u001b[0m \u001b[0mplt\u001b[0m\u001b[1;33m.\u001b[0m\u001b[0mfigure\u001b[0m\u001b[1;33m(\u001b[0m\u001b[1;33m)\u001b[0m\u001b[1;33m\u001b[0m\u001b[0m\n\u001b[0m",
      "\u001b[1;31mAttributeError\u001b[0m: 'module' object has no attribute 'figure'"
     ]
    }
   ],
   "source": [
    "fig = plt.figure()"
   ]
  },
  {
   "cell_type": "code",
   "execution_count": 18,
   "metadata": {},
   "outputs": [
    {
     "ename": "SyntaxError",
     "evalue": "invalid syntax (<ipython-input-18-66215b2cd316>, line 1)",
     "output_type": "error",
     "traceback": [
      "\u001b[1;36m  File \u001b[1;32m\"<ipython-input-18-66215b2cd316>\"\u001b[1;36m, line \u001b[1;32m1\u001b[0m\n\u001b[1;33m    import matplotlib.pyplot as plt.\u001b[0m\n\u001b[1;37m                                   ^\u001b[0m\n\u001b[1;31mSyntaxError\u001b[0m\u001b[1;31m:\u001b[0m invalid syntax\n"
     ]
    }
   ],
   "source": [
    "import matplotlib.pyplot as plt."
   ]
  },
  {
   "cell_type": "code",
   "execution_count": 19,
   "metadata": {},
   "outputs": [],
   "source": [
    "import matplotlib.pyplot as plt"
   ]
  },
  {
   "cell_type": "code",
   "execution_count": 20,
   "metadata": {},
   "outputs": [
    {
     "data": {
      "text/plain": [
       "<Figure size 432x288 with 0 Axes>"
      ]
     },
     "metadata": {},
     "output_type": "display_data"
    }
   ],
   "source": [
    "fig = plt.figure()"
   ]
  },
  {
   "cell_type": "code",
   "execution_count": 21,
   "metadata": {},
   "outputs": [
    {
     "name": "stdout",
     "output_type": "stream",
     "text": [
      "Figure(432x288)\n"
     ]
    }
   ],
   "source": [
    "print(fig)"
   ]
  },
  {
   "cell_type": "code",
   "execution_count": 42,
   "metadata": {},
   "outputs": [
    {
     "ename": "ValueError",
     "evalue": "x and y must be the same size",
     "output_type": "error",
     "traceback": [
      "\u001b[1;31m---------------------------------------------------------------------------\u001b[0m",
      "\u001b[1;31mValueError\u001b[0m                                Traceback (most recent call last)",
      "\u001b[1;32m<ipython-input-42-9eccbe54bc62>\u001b[0m in \u001b[0;36m<module>\u001b[1;34m()\u001b[0m\n\u001b[0;32m      2\u001b[0m \u001b[0mfig\u001b[0m \u001b[1;33m=\u001b[0m \u001b[0mplt\u001b[0m\u001b[1;33m.\u001b[0m\u001b[0mfigure\u001b[0m\u001b[1;33m(\u001b[0m\u001b[1;33m)\u001b[0m\u001b[1;33m\u001b[0m\u001b[0m\n\u001b[0;32m      3\u001b[0m \u001b[0max\u001b[0m \u001b[1;33m=\u001b[0m \u001b[0mfig\u001b[0m\u001b[1;33m.\u001b[0m\u001b[0madd_axes\u001b[0m\u001b[1;33m(\u001b[0m\u001b[1;33m[\u001b[0m\u001b[1;36m0\u001b[0m\u001b[1;33m,\u001b[0m\u001b[1;36m0\u001b[0m\u001b[1;33m,\u001b[0m\u001b[1;36m1\u001b[0m\u001b[1;33m,\u001b[0m\u001b[1;36m1\u001b[0m\u001b[1;33m]\u001b[0m\u001b[1;33m)\u001b[0m\u001b[1;33m\u001b[0m\u001b[0m\n\u001b[1;32m----> 4\u001b[1;33m \u001b[0max\u001b[0m\u001b[1;33m.\u001b[0m\u001b[0mscatter\u001b[0m\u001b[1;33m(\u001b[0m\u001b[0mX\u001b[0m\u001b[1;33m,\u001b[0m\u001b[0my\u001b[0m\u001b[1;33m,\u001b[0m\u001b[0mcolor\u001b[0m\u001b[1;33m=\u001b[0m\u001b[1;34m'blue'\u001b[0m\u001b[1;33m)\u001b[0m\u001b[1;33m\u001b[0m\u001b[0m\n\u001b[0m",
      "\u001b[1;32mc:\\python27\\lib\\site-packages\\matplotlib\\__init__.pyc\u001b[0m in \u001b[0;36minner\u001b[1;34m(ax, *args, **kwargs)\u001b[0m\n\u001b[0;32m   1868\u001b[0m                         \u001b[1;34m\"the Matplotlib list!)\"\u001b[0m \u001b[1;33m%\u001b[0m \u001b[1;33m(\u001b[0m\u001b[0mlabel_namer\u001b[0m\u001b[1;33m,\u001b[0m \u001b[0mfunc\u001b[0m\u001b[1;33m.\u001b[0m\u001b[0m__name__\u001b[0m\u001b[1;33m)\u001b[0m\u001b[1;33m,\u001b[0m\u001b[1;33m\u001b[0m\u001b[0m\n\u001b[0;32m   1869\u001b[0m                         RuntimeWarning, stacklevel=2)\n\u001b[1;32m-> 1870\u001b[1;33m             \u001b[1;32mreturn\u001b[0m \u001b[0mfunc\u001b[0m\u001b[1;33m(\u001b[0m\u001b[0max\u001b[0m\u001b[1;33m,\u001b[0m \u001b[1;33m*\u001b[0m\u001b[0margs\u001b[0m\u001b[1;33m,\u001b[0m \u001b[1;33m**\u001b[0m\u001b[0mkwargs\u001b[0m\u001b[1;33m)\u001b[0m\u001b[1;33m\u001b[0m\u001b[0m\n\u001b[0m\u001b[0;32m   1871\u001b[0m \u001b[1;33m\u001b[0m\u001b[0m\n\u001b[0;32m   1872\u001b[0m         inner.__doc__ = _add_data_doc(inner.__doc__,\n",
      "\u001b[1;32mc:\\python27\\lib\\site-packages\\matplotlib\\axes\\_axes.pyc\u001b[0m in \u001b[0;36mscatter\u001b[1;34m(self, x, y, s, c, marker, cmap, norm, vmin, vmax, alpha, linewidths, verts, edgecolors, **kwargs)\u001b[0m\n\u001b[0;32m   4255\u001b[0m         \u001b[0my\u001b[0m \u001b[1;33m=\u001b[0m \u001b[0mnp\u001b[0m\u001b[1;33m.\u001b[0m\u001b[0mma\u001b[0m\u001b[1;33m.\u001b[0m\u001b[0mravel\u001b[0m\u001b[1;33m(\u001b[0m\u001b[0my\u001b[0m\u001b[1;33m)\u001b[0m\u001b[1;33m\u001b[0m\u001b[0m\n\u001b[0;32m   4256\u001b[0m         \u001b[1;32mif\u001b[0m \u001b[0mx\u001b[0m\u001b[1;33m.\u001b[0m\u001b[0msize\u001b[0m \u001b[1;33m!=\u001b[0m \u001b[0my\u001b[0m\u001b[1;33m.\u001b[0m\u001b[0msize\u001b[0m\u001b[1;33m:\u001b[0m\u001b[1;33m\u001b[0m\u001b[0m\n\u001b[1;32m-> 4257\u001b[1;33m             \u001b[1;32mraise\u001b[0m \u001b[0mValueError\u001b[0m\u001b[1;33m(\u001b[0m\u001b[1;34m\"x and y must be the same size\"\u001b[0m\u001b[1;33m)\u001b[0m\u001b[1;33m\u001b[0m\u001b[0m\n\u001b[0m\u001b[0;32m   4258\u001b[0m \u001b[1;33m\u001b[0m\u001b[0m\n\u001b[0;32m   4259\u001b[0m         \u001b[1;32mif\u001b[0m \u001b[0ms\u001b[0m \u001b[1;32mis\u001b[0m \u001b[0mNone\u001b[0m\u001b[1;33m:\u001b[0m\u001b[1;33m\u001b[0m\u001b[0m\n",
      "\u001b[1;31mValueError\u001b[0m: x and y must be the same size"
     ]
    },
    {
     "data": {
      "image/png": "[encoded data removed]",
      "text/plain": [
       "<Figure size 432x288 with 1 Axes>"
      ]
     },
     "metadata": {
      "needs_background": "light"
     },
     "output_type": "display_data"
    }
   ],
   "source": [
    "x = dataset.iloc[:,3:7].values\n",
    "y = dataset.iloc[:,5:6].values\n",
    "X = dataset.iloc[:,4:5].values\n",
    "fig = plt.figure()\n",
    "ax = fig.add_axes([0,0,1,1])\n",
    "ax.scatter(X,y,color='blue')"
   ]
  },
  {
   "cell_type": "code",
   "execution_count": 23,
   "metadata": {},
   "outputs": [
    {
     "ename": "SyntaxError",
     "evalue": "invalid syntax (<ipython-input-23-b3e60896e7da>, line 1)",
     "output_type": "error",
     "traceback": [
      "\u001b[1;36m  File \u001b[1;32m\"<ipython-input-23-b3e60896e7da>\"\u001b[1;36m, line \u001b[1;32m1\u001b[0m\n\u001b[1;33m    <matplotlib.collections.PathCollection at 0x19140c08>\u001b[0m\n\u001b[1;37m    ^\u001b[0m\n\u001b[1;31mSyntaxError\u001b[0m\u001b[1;31m:\u001b[0m invalid syntax\n"
     ]
    }
   ],
   "source": [
    "<matplotlib.collections.PathCollection at 0x19140c08>\n"
   ]
  },
  {
   "cell_type": "code",
   "execution_count": 24,
   "metadata": {},
   "outputs": [
    {
     "data": {
      "text/plain": [
       "<matplotlib.collections.PathCollection at 0x19152a88>"
      ]
     },
     "execution_count": 24,
     "metadata": {},
     "output_type": "execute_result"
    }
   ],
   "source": [
    "ax.scatter(X,y,color='blue')"
   ]
  },
  {
   "cell_type": "code",
   "execution_count": 28,
   "metadata": {},
   "outputs": [],
   "source": [
    "plt.show(ax.scatter(X,y,color='blue'))"
   ]
  },
  {
   "cell_type": "code",
   "execution_count": 29,
   "metadata": {},
   "outputs": [
    {
     "ename": "TypeError",
     "evalue": "scatter() takes at least 2 arguments (1 given)",
     "output_type": "error",
     "traceback": [
      "\u001b[1;31m---------------------------------------------------------------------------\u001b[0m",
      "\u001b[1;31mTypeError\u001b[0m                                 Traceback (most recent call last)",
      "\u001b[1;32m<ipython-input-29-d4e76f727a17>\u001b[0m in \u001b[0;36m<module>\u001b[1;34m()\u001b[0m\n\u001b[1;32m----> 1\u001b[1;33m \u001b[0mplt\u001b[0m\u001b[1;33m.\u001b[0m\u001b[0mscatter\u001b[0m\u001b[1;33m(\u001b[0m\u001b[0max\u001b[0m\u001b[1;33m.\u001b[0m\u001b[0mscatter\u001b[0m\u001b[1;33m(\u001b[0m\u001b[0mX\u001b[0m\u001b[1;33m,\u001b[0m\u001b[0my\u001b[0m\u001b[1;33m,\u001b[0m\u001b[0mcolor\u001b[0m\u001b[1;33m=\u001b[0m\u001b[1;34m'blue'\u001b[0m\u001b[1;33m)\u001b[0m\u001b[1;33m)\u001b[0m\u001b[1;33m\u001b[0m\u001b[0m\n\u001b[0m",
      "\u001b[1;31mTypeError\u001b[0m: scatter() takes at least 2 arguments (1 given)"
     ]
    }
   ],
   "source": [
    "plt.scatter(ax.scatter(X,y,color='blue'))"
   ]
  },
  {
   "cell_type": "code",
   "execution_count": 30,
   "metadata": {},
   "outputs": [],
   "source": [
    "plt.show()"
   ]
  },
  {
   "cell_type": "code",
   "execution_count": 31,
   "metadata": {},
   "outputs": [
    {
     "name": "stderr",
     "output_type": "stream",
     "text": [
      "c:\\python27\\lib\\site-packages\\matplotlib\\cbook\\deprecation.py:107: MatplotlibDeprecationWarning: Adding an axes using the same arguments as a previous axes currently reuses the earlier instance.  In a future version, a new instance will always be created and returned.  Meanwhile, this warning can be suppressed, and the future behavior ensured, by passing a unique label to each axes instance.\n",
      "  warnings.warn(message, mplDeprecation, stacklevel=1)\n"
     ]
    }
   ],
   "source": [
    "ax = fig.add_axes([0,0,1,1])\n",
    "ax.scatter(X,y,color='blue')\n",
    "plt.show()"
   ]
  },
  {
   "cell_type": "code",
   "execution_count": 33,
   "metadata": {},
   "outputs": [
    {
     "data": {
      "text/plain": [
       "<matplotlib.collections.PathCollection at 0x1911b488>"
      ]
     },
     "execution_count": 33,
     "metadata": {},
     "output_type": "execute_result"
    }
   ],
   "source": [
    "ax = fig.add_axes([0,0,1,1])\n",
    "ax.scatter(X,y,color='blue')\n"
   ]
  },
  {
   "cell_type": "code",
   "execution_count": 34,
   "metadata": {},
   "outputs": [
    {
     "data": {
      "image/png": "[encoded data removed]",
      "text/plain": [
       "<Figure size 432x288 with 1 Axes>"
      ]
     },
     "metadata": {
      "needs_background": "light"
     },
     "output_type": "display_data"
    }
   ],
   "source": [
    "from matplotlib import pyplot as plt\n",
    "\n",
    "x = [1,2,3,4,5,6]\n",
    "y = [2,4,6,3,1,5]\n",
    "\n",
    "plt.scatter(x, y, c='r')\n",
    "plt.show()\n"
   ]
  },
  {
   "cell_type": "code",
   "execution_count": 35,
   "metadata": {},
   "outputs": [
    {
     "data": {
      "text/plain": [
       "<Figure size 432x288 with 0 Axes>"
      ]
     },
     "metadata": {},
     "output_type": "display_data"
    }
   ],
   "source": [
    "fig = plt.figure()"
   ]
  },
  {
   "cell_type": "code",
   "execution_count": 36,
   "metadata": {},
   "outputs": [
    {
     "ename": "ValueError",
     "evalue": "x and y must be the same size",
     "output_type": "error",
     "traceback": [
      "\u001b[1;31m---------------------------------------------------------------------------\u001b[0m",
      "\u001b[1;31mValueError\u001b[0m                                Traceback (most recent call last)",
      "\u001b[1;32m<ipython-input-36-79fb50340ed3>\u001b[0m in \u001b[0;36m<module>\u001b[1;34m()\u001b[0m\n\u001b[0;32m      1\u001b[0m \u001b[0max\u001b[0m \u001b[1;33m=\u001b[0m \u001b[0mfig\u001b[0m\u001b[1;33m.\u001b[0m\u001b[0madd_axes\u001b[0m\u001b[1;33m(\u001b[0m\u001b[1;33m[\u001b[0m\u001b[1;36m0\u001b[0m\u001b[1;33m,\u001b[0m\u001b[1;36m0\u001b[0m\u001b[1;33m,\u001b[0m\u001b[1;36m1\u001b[0m\u001b[1;33m,\u001b[0m\u001b[1;36m1\u001b[0m\u001b[1;33m]\u001b[0m\u001b[1;33m)\u001b[0m\u001b[1;33m\u001b[0m\u001b[0m\n\u001b[1;32m----> 2\u001b[1;33m \u001b[0max\u001b[0m\u001b[1;33m.\u001b[0m\u001b[0mscatter\u001b[0m\u001b[1;33m(\u001b[0m\u001b[0mX\u001b[0m\u001b[1;33m,\u001b[0m\u001b[0my\u001b[0m\u001b[1;33m,\u001b[0m\u001b[0mcolor\u001b[0m\u001b[1;33m=\u001b[0m\u001b[1;34m'blue'\u001b[0m\u001b[1;33m)\u001b[0m\u001b[1;33m\u001b[0m\u001b[0m\n\u001b[0m",
      "\u001b[1;32mc:\\python27\\lib\\site-packages\\matplotlib\\__init__.pyc\u001b[0m in \u001b[0;36minner\u001b[1;34m(ax, *args, **kwargs)\u001b[0m\n\u001b[0;32m   1868\u001b[0m                         \u001b[1;34m\"the Matplotlib list!)\"\u001b[0m \u001b[1;33m%\u001b[0m \u001b[1;33m(\u001b[0m\u001b[0mlabel_namer\u001b[0m\u001b[1;33m,\u001b[0m \u001b[0mfunc\u001b[0m\u001b[1;33m.\u001b[0m\u001b[0m__name__\u001b[0m\u001b[1;33m)\u001b[0m\u001b[1;33m,\u001b[0m\u001b[1;33m\u001b[0m\u001b[0m\n\u001b[0;32m   1869\u001b[0m                         RuntimeWarning, stacklevel=2)\n\u001b[1;32m-> 1870\u001b[1;33m             \u001b[1;32mreturn\u001b[0m \u001b[0mfunc\u001b[0m\u001b[1;33m(\u001b[0m\u001b[0max\u001b[0m\u001b[1;33m,\u001b[0m \u001b[1;33m*\u001b[0m\u001b[0margs\u001b[0m\u001b[1;33m,\u001b[0m \u001b[1;33m**\u001b[0m\u001b[0mkwargs\u001b[0m\u001b[1;33m)\u001b[0m\u001b[1;33m\u001b[0m\u001b[0m\n\u001b[0m\u001b[0;32m   1871\u001b[0m \u001b[1;33m\u001b[0m\u001b[0m\n\u001b[0;32m   1872\u001b[0m         inner.__doc__ = _add_data_doc(inner.__doc__,\n",
      "\u001b[1;32mc:\\python27\\lib\\site-packages\\matplotlib\\axes\\_axes.pyc\u001b[0m in \u001b[0;36mscatter\u001b[1;34m(self, x, y, s, c, marker, cmap, norm, vmin, vmax, alpha, linewidths, verts, edgecolors, **kwargs)\u001b[0m\n\u001b[0;32m   4255\u001b[0m         \u001b[0my\u001b[0m \u001b[1;33m=\u001b[0m \u001b[0mnp\u001b[0m\u001b[1;33m.\u001b[0m\u001b[0mma\u001b[0m\u001b[1;33m.\u001b[0m\u001b[0mravel\u001b[0m\u001b[1;33m(\u001b[0m\u001b[0my\u001b[0m\u001b[1;33m)\u001b[0m\u001b[1;33m\u001b[0m\u001b[0m\n\u001b[0;32m   4256\u001b[0m         \u001b[1;32mif\u001b[0m \u001b[0mx\u001b[0m\u001b[1;33m.\u001b[0m\u001b[0msize\u001b[0m \u001b[1;33m!=\u001b[0m \u001b[0my\u001b[0m\u001b[1;33m.\u001b[0m\u001b[0msize\u001b[0m\u001b[1;33m:\u001b[0m\u001b[1;33m\u001b[0m\u001b[0m\n\u001b[1;32m-> 4257\u001b[1;33m             \u001b[1;32mraise\u001b[0m \u001b[0mValueError\u001b[0m\u001b[1;33m(\u001b[0m\u001b[1;34m\"x and y must be the same size\"\u001b[0m\u001b[1;33m)\u001b[0m\u001b[1;33m\u001b[0m\u001b[0m\n\u001b[0m\u001b[0;32m   4258\u001b[0m \u001b[1;33m\u001b[0m\u001b[0m\n\u001b[0;32m   4259\u001b[0m         \u001b[1;32mif\u001b[0m \u001b[0ms\u001b[0m \u001b[1;32mis\u001b[0m \u001b[0mNone\u001b[0m\u001b[1;33m:\u001b[0m\u001b[1;33m\u001b[0m\u001b[0m\n",
      "\u001b[1;31mValueError\u001b[0m: x and y must be the same size"
     ]
    }
   ],
   "source": [
    "fig = plt.figure()\n",
    "ax = fig.add_axes([0,0,1,1])\n",
    "ax.scatter(X,y,color='blue')"
   ]
  },
  {
   "cell_type": "code",
   "execution_count": 37,
   "metadata": {},
   "outputs": [
    {
     "ename": "ValueError",
     "evalue": "x and y must be the same size",
     "output_type": "error",
     "traceback": [
      "\u001b[1;31m---------------------------------------------------------------------------\u001b[0m",
      "\u001b[1;31mValueError\u001b[0m                                Traceback (most recent call last)",
      "\u001b[1;32m<ipython-input-37-79fb50340ed3>\u001b[0m in \u001b[0;36m<module>\u001b[1;34m()\u001b[0m\n\u001b[0;32m      1\u001b[0m \u001b[0max\u001b[0m \u001b[1;33m=\u001b[0m \u001b[0mfig\u001b[0m\u001b[1;33m.\u001b[0m\u001b[0madd_axes\u001b[0m\u001b[1;33m(\u001b[0m\u001b[1;33m[\u001b[0m\u001b[1;36m0\u001b[0m\u001b[1;33m,\u001b[0m\u001b[1;36m0\u001b[0m\u001b[1;33m,\u001b[0m\u001b[1;36m1\u001b[0m\u001b[1;33m,\u001b[0m\u001b[1;36m1\u001b[0m\u001b[1;33m]\u001b[0m\u001b[1;33m)\u001b[0m\u001b[1;33m\u001b[0m\u001b[0m\n\u001b[1;32m----> 2\u001b[1;33m \u001b[0max\u001b[0m\u001b[1;33m.\u001b[0m\u001b[0mscatter\u001b[0m\u001b[1;33m(\u001b[0m\u001b[0mX\u001b[0m\u001b[1;33m,\u001b[0m\u001b[0my\u001b[0m\u001b[1;33m,\u001b[0m\u001b[0mcolor\u001b[0m\u001b[1;33m=\u001b[0m\u001b[1;34m'blue'\u001b[0m\u001b[1;33m)\u001b[0m\u001b[1;33m\u001b[0m\u001b[0m\n\u001b[0m",
      "\u001b[1;32mc:\\python27\\lib\\site-packages\\matplotlib\\__init__.pyc\u001b[0m in \u001b[0;36minner\u001b[1;34m(ax, *args, **kwargs)\u001b[0m\n\u001b[0;32m   1868\u001b[0m                         \u001b[1;34m\"the Matplotlib list!)\"\u001b[0m \u001b[1;33m%\u001b[0m \u001b[1;33m(\u001b[0m\u001b[0mlabel_namer\u001b[0m\u001b[1;33m,\u001b[0m \u001b[0mfunc\u001b[0m\u001b[1;33m.\u001b[0m\u001b[0m__name__\u001b[0m\u001b[1;33m)\u001b[0m\u001b[1;33m,\u001b[0m\u001b[1;33m\u001b[0m\u001b[0m\n\u001b[0;32m   1869\u001b[0m                         RuntimeWarning, stacklevel=2)\n\u001b[1;32m-> 1870\u001b[1;33m             \u001b[1;32mreturn\u001b[0m \u001b[0mfunc\u001b[0m\u001b[1;33m(\u001b[0m\u001b[0max\u001b[0m\u001b[1;33m,\u001b[0m \u001b[1;33m*\u001b[0m\u001b[0margs\u001b[0m\u001b[1;33m,\u001b[0m \u001b[1;33m**\u001b[0m\u001b[0mkwargs\u001b[0m\u001b[1;33m)\u001b[0m\u001b[1;33m\u001b[0m\u001b[0m\n\u001b[0m\u001b[0;32m   1871\u001b[0m \u001b[1;33m\u001b[0m\u001b[0m\n\u001b[0;32m   1872\u001b[0m         inner.__doc__ = _add_data_doc(inner.__doc__,\n",
      "\u001b[1;32mc:\\python27\\lib\\site-packages\\matplotlib\\axes\\_axes.pyc\u001b[0m in \u001b[0;36mscatter\u001b[1;34m(self, x, y, s, c, marker, cmap, norm, vmin, vmax, alpha, linewidths, verts, edgecolors, **kwargs)\u001b[0m\n\u001b[0;32m   4255\u001b[0m         \u001b[0my\u001b[0m \u001b[1;33m=\u001b[0m \u001b[0mnp\u001b[0m\u001b[1;33m.\u001b[0m\u001b[0mma\u001b[0m\u001b[1;33m.\u001b[0m\u001b[0mravel\u001b[0m\u001b[1;33m(\u001b[0m\u001b[0my\u001b[0m\u001b[1;33m)\u001b[0m\u001b[1;33m\u001b[0m\u001b[0m\n\u001b[0;32m   4256\u001b[0m         \u001b[1;32mif\u001b[0m \u001b[0mx\u001b[0m\u001b[1;33m.\u001b[0m\u001b[0msize\u001b[0m \u001b[1;33m!=\u001b[0m \u001b[0my\u001b[0m\u001b[1;33m.\u001b[0m\u001b[0msize\u001b[0m\u001b[1;33m:\u001b[0m\u001b[1;33m\u001b[0m\u001b[0m\n\u001b[1;32m-> 4257\u001b[1;33m             \u001b[1;32mraise\u001b[0m \u001b[0mValueError\u001b[0m\u001b[1;33m(\u001b[0m\u001b[1;34m\"x and y must be the same size\"\u001b[0m\u001b[1;33m)\u001b[0m\u001b[1;33m\u001b[0m\u001b[0m\n\u001b[0m\u001b[0;32m   4258\u001b[0m \u001b[1;33m\u001b[0m\u001b[0m\n\u001b[0;32m   4259\u001b[0m         \u001b[1;32mif\u001b[0m \u001b[0ms\u001b[0m \u001b[1;32mis\u001b[0m \u001b[0mNone\u001b[0m\u001b[1;33m:\u001b[0m\u001b[1;33m\u001b[0m\u001b[0m\n",
      "\u001b[1;31mValueError\u001b[0m: x and y must be the same size"
     ]
    }
   ],
   "source": [
    "ax = fig.add_axes([0,0,1,1])\n",
    "ax.scatter(X,y,color='blue')"
   ]
  },
  {
   "cell_type": "code",
   "execution_count": 38,
   "metadata": {},
   "outputs": [
    {
     "ename": "SyntaxError",
     "evalue": "invalid syntax (<ipython-input-38-66215b2cd316>, line 1)",
     "output_type": "error",
     "traceback": [
      "\u001b[1;36m  File \u001b[1;32m\"<ipython-input-38-66215b2cd316>\"\u001b[1;36m, line \u001b[1;32m1\u001b[0m\n\u001b[1;33m    import matplotlib.pyplot as plt.\u001b[0m\n\u001b[1;37m                                   ^\u001b[0m\n\u001b[1;31mSyntaxError\u001b[0m\u001b[1;31m:\u001b[0m invalid syntax\n"
     ]
    }
   ],
   "source": [
    "import matplotlib.pyplot as plt."
   ]
  },
  {
   "cell_type": "code",
   "execution_count": 39,
   "metadata": {},
   "outputs": [],
   "source": [
    "import matplotlib.pyplot as plt"
   ]
  },
  {
   "cell_type": "code",
   "execution_count": 40,
   "metadata": {},
   "outputs": [
    {
     "ename": "ValueError",
     "evalue": "x and y must be the same size",
     "output_type": "error",
     "traceback": [
      "\u001b[1;31m---------------------------------------------------------------------------\u001b[0m",
      "\u001b[1;31mValueError\u001b[0m                                Traceback (most recent call last)",
      "\u001b[1;32m<ipython-input-40-79fb50340ed3>\u001b[0m in \u001b[0;36m<module>\u001b[1;34m()\u001b[0m\n\u001b[0;32m      1\u001b[0m \u001b[0max\u001b[0m \u001b[1;33m=\u001b[0m \u001b[0mfig\u001b[0m\u001b[1;33m.\u001b[0m\u001b[0madd_axes\u001b[0m\u001b[1;33m(\u001b[0m\u001b[1;33m[\u001b[0m\u001b[1;36m0\u001b[0m\u001b[1;33m,\u001b[0m\u001b[1;36m0\u001b[0m\u001b[1;33m,\u001b[0m\u001b[1;36m1\u001b[0m\u001b[1;33m,\u001b[0m\u001b[1;36m1\u001b[0m\u001b[1;33m]\u001b[0m\u001b[1;33m)\u001b[0m\u001b[1;33m\u001b[0m\u001b[0m\n\u001b[1;32m----> 2\u001b[1;33m \u001b[0max\u001b[0m\u001b[1;33m.\u001b[0m\u001b[0mscatter\u001b[0m\u001b[1;33m(\u001b[0m\u001b[0mX\u001b[0m\u001b[1;33m,\u001b[0m\u001b[0my\u001b[0m\u001b[1;33m,\u001b[0m\u001b[0mcolor\u001b[0m\u001b[1;33m=\u001b[0m\u001b[1;34m'blue'\u001b[0m\u001b[1;33m)\u001b[0m\u001b[1;33m\u001b[0m\u001b[0m\n\u001b[0m",
      "\u001b[1;32mc:\\python27\\lib\\site-packages\\matplotlib\\__init__.pyc\u001b[0m in \u001b[0;36minner\u001b[1;34m(ax, *args, **kwargs)\u001b[0m\n\u001b[0;32m   1868\u001b[0m                         \u001b[1;34m\"the Matplotlib list!)\"\u001b[0m \u001b[1;33m%\u001b[0m \u001b[1;33m(\u001b[0m\u001b[0mlabel_namer\u001b[0m\u001b[1;33m,\u001b[0m \u001b[0mfunc\u001b[0m\u001b[1;33m.\u001b[0m\u001b[0m__name__\u001b[0m\u001b[1;33m)\u001b[0m\u001b[1;33m,\u001b[0m\u001b[1;33m\u001b[0m\u001b[0m\n\u001b[0;32m   1869\u001b[0m                         RuntimeWarning, stacklevel=2)\n\u001b[1;32m-> 1870\u001b[1;33m             \u001b[1;32mreturn\u001b[0m \u001b[0mfunc\u001b[0m\u001b[1;33m(\u001b[0m\u001b[0max\u001b[0m\u001b[1;33m,\u001b[0m \u001b[1;33m*\u001b[0m\u001b[0margs\u001b[0m\u001b[1;33m,\u001b[0m \u001b[1;33m**\u001b[0m\u001b[0mkwargs\u001b[0m\u001b[1;33m)\u001b[0m\u001b[1;33m\u001b[0m\u001b[0m\n\u001b[0m\u001b[0;32m   1871\u001b[0m \u001b[1;33m\u001b[0m\u001b[0m\n\u001b[0;32m   1872\u001b[0m         inner.__doc__ = _add_data_doc(inner.__doc__,\n",
      "\u001b[1;32mc:\\python27\\lib\\site-packages\\matplotlib\\axes\\_axes.pyc\u001b[0m in \u001b[0;36mscatter\u001b[1;34m(self, x, y, s, c, marker, cmap, norm, vmin, vmax, alpha, linewidths, verts, edgecolors, **kwargs)\u001b[0m\n\u001b[0;32m   4255\u001b[0m         \u001b[0my\u001b[0m \u001b[1;33m=\u001b[0m \u001b[0mnp\u001b[0m\u001b[1;33m.\u001b[0m\u001b[0mma\u001b[0m\u001b[1;33m.\u001b[0m\u001b[0mravel\u001b[0m\u001b[1;33m(\u001b[0m\u001b[0my\u001b[0m\u001b[1;33m)\u001b[0m\u001b[1;33m\u001b[0m\u001b[0m\n\u001b[0;32m   4256\u001b[0m         \u001b[1;32mif\u001b[0m \u001b[0mx\u001b[0m\u001b[1;33m.\u001b[0m\u001b[0msize\u001b[0m \u001b[1;33m!=\u001b[0m \u001b[0my\u001b[0m\u001b[1;33m.\u001b[0m\u001b[0msize\u001b[0m\u001b[1;33m:\u001b[0m\u001b[1;33m\u001b[0m\u001b[0m\n\u001b[1;32m-> 4257\u001b[1;33m             \u001b[1;32mraise\u001b[0m \u001b[0mValueError\u001b[0m\u001b[1;33m(\u001b[0m\u001b[1;34m\"x and y must be the same size\"\u001b[0m\u001b[1;33m)\u001b[0m\u001b[1;33m\u001b[0m\u001b[0m\n\u001b[0m\u001b[0;32m   4258\u001b[0m \u001b[1;33m\u001b[0m\u001b[0m\n\u001b[0;32m   4259\u001b[0m         \u001b[1;32mif\u001b[0m \u001b[0ms\u001b[0m \u001b[1;32mis\u001b[0m \u001b[0mNone\u001b[0m\u001b[1;33m:\u001b[0m\u001b[1;33m\u001b[0m\u001b[0m\n",
      "\u001b[1;31mValueError\u001b[0m: x and y must be the same size"
     ]
    }
   ],
   "source": [
    "ax = fig.add_axes([0,0,1,1])\n",
    "ax.scatter(X,y,color='blue')"
   ]
  },
  {
   "cell_type": "code",
   "execution_count": 41,
   "metadata": {},
   "outputs": [
    {
     "ename": "ValueError",
     "evalue": "x and y must be the same size",
     "output_type": "error",
     "traceback": [
      "\u001b[1;31m---------------------------------------------------------------------------\u001b[0m",
      "\u001b[1;31mValueError\u001b[0m                                Traceback (most recent call last)",
      "\u001b[1;32m<ipython-input-41-792dc150c043>\u001b[0m in \u001b[0;36m<module>\u001b[1;34m()\u001b[0m\n\u001b[0;32m      1\u001b[0m \u001b[0mfig\u001b[0m \u001b[1;33m=\u001b[0m \u001b[0mplt\u001b[0m\u001b[1;33m.\u001b[0m\u001b[0mfigure\u001b[0m\u001b[1;33m(\u001b[0m\u001b[1;33m)\u001b[0m\u001b[1;33m\u001b[0m\u001b[0m\n\u001b[0;32m      2\u001b[0m \u001b[0max\u001b[0m \u001b[1;33m=\u001b[0m \u001b[0mfig\u001b[0m\u001b[1;33m.\u001b[0m\u001b[0madd_axes\u001b[0m\u001b[1;33m(\u001b[0m\u001b[1;33m[\u001b[0m\u001b[1;36m0\u001b[0m\u001b[1;33m,\u001b[0m\u001b[1;36m0\u001b[0m\u001b[1;33m,\u001b[0m\u001b[1;36m1\u001b[0m\u001b[1;33m,\u001b[0m\u001b[1;36m1\u001b[0m\u001b[1;33m]\u001b[0m\u001b[1;33m)\u001b[0m\u001b[1;33m\u001b[0m\u001b[0m\n\u001b[1;32m----> 3\u001b[1;33m \u001b[0max\u001b[0m\u001b[1;33m.\u001b[0m\u001b[0mscatter\u001b[0m\u001b[1;33m(\u001b[0m\u001b[0mX\u001b[0m\u001b[1;33m,\u001b[0m\u001b[0my\u001b[0m\u001b[1;33m,\u001b[0m\u001b[0mcolor\u001b[0m\u001b[1;33m=\u001b[0m\u001b[1;34m'blue'\u001b[0m\u001b[1;33m)\u001b[0m\u001b[1;33m\u001b[0m\u001b[0m\n\u001b[0m",
      "\u001b[1;32mc:\\python27\\lib\\site-packages\\matplotlib\\__init__.pyc\u001b[0m in \u001b[0;36minner\u001b[1;34m(ax, *args, **kwargs)\u001b[0m\n\u001b[0;32m   1868\u001b[0m                         \u001b[1;34m\"the Matplotlib list!)\"\u001b[0m \u001b[1;33m%\u001b[0m \u001b[1;33m(\u001b[0m\u001b[0mlabel_namer\u001b[0m\u001b[1;33m,\u001b[0m \u001b[0mfunc\u001b[0m\u001b[1;33m.\u001b[0m\u001b[0m__name__\u001b[0m\u001b[1;33m)\u001b[0m\u001b[1;33m,\u001b[0m\u001b[1;33m\u001b[0m\u001b[0m\n\u001b[0;32m   1869\u001b[0m                         RuntimeWarning, stacklevel=2)\n\u001b[1;32m-> 1870\u001b[1;33m             \u001b[1;32mreturn\u001b[0m \u001b[0mfunc\u001b[0m\u001b[1;33m(\u001b[0m\u001b[0max\u001b[0m\u001b[1;33m,\u001b[0m \u001b[1;33m*\u001b[0m\u001b[0margs\u001b[0m\u001b[1;33m,\u001b[0m \u001b[1;33m**\u001b[0m\u001b[0mkwargs\u001b[0m\u001b[1;33m)\u001b[0m\u001b[1;33m\u001b[0m\u001b[0m\n\u001b[0m\u001b[0;32m   1871\u001b[0m \u001b[1;33m\u001b[0m\u001b[0m\n\u001b[0;32m   1872\u001b[0m         inner.__doc__ = _add_data_doc(inner.__doc__,\n",
      "\u001b[1;32mc:\\python27\\lib\\site-packages\\matplotlib\\axes\\_axes.pyc\u001b[0m in \u001b[0;36mscatter\u001b[1;34m(self, x, y, s, c, marker, cmap, norm, vmin, vmax, alpha, linewidths, verts, edgecolors, **kwargs)\u001b[0m\n\u001b[0;32m   4255\u001b[0m         \u001b[0my\u001b[0m \u001b[1;33m=\u001b[0m \u001b[0mnp\u001b[0m\u001b[1;33m.\u001b[0m\u001b[0mma\u001b[0m\u001b[1;33m.\u001b[0m\u001b[0mravel\u001b[0m\u001b[1;33m(\u001b[0m\u001b[0my\u001b[0m\u001b[1;33m)\u001b[0m\u001b[1;33m\u001b[0m\u001b[0m\n\u001b[0;32m   4256\u001b[0m         \u001b[1;32mif\u001b[0m \u001b[0mx\u001b[0m\u001b[1;33m.\u001b[0m\u001b[0msize\u001b[0m \u001b[1;33m!=\u001b[0m \u001b[0my\u001b[0m\u001b[1;33m.\u001b[0m\u001b[0msize\u001b[0m\u001b[1;33m:\u001b[0m\u001b[1;33m\u001b[0m\u001b[0m\n\u001b[1;32m-> 4257\u001b[1;33m             \u001b[1;32mraise\u001b[0m \u001b[0mValueError\u001b[0m\u001b[1;33m(\u001b[0m\u001b[1;34m\"x and y must be the same size\"\u001b[0m\u001b[1;33m)\u001b[0m\u001b[1;33m\u001b[0m\u001b[0m\n\u001b[0m\u001b[0;32m   4258\u001b[0m \u001b[1;33m\u001b[0m\u001b[0m\n\u001b[0;32m   4259\u001b[0m         \u001b[1;32mif\u001b[0m \u001b[0ms\u001b[0m \u001b[1;32mis\u001b[0m \u001b[0mNone\u001b[0m\u001b[1;33m:\u001b[0m\u001b[1;33m\u001b[0m\u001b[0m\n",
      "\u001b[1;31mValueError\u001b[0m: x and y must be the same size"
     ]
    },
    {
     "data": {
      "image/png": "[encoded data removed]",
      "text/plain": [
       "<Figure size 432x288 with 1 Axes>"
      ]
     },
     "metadata": {
      "needs_background": "light"
     },
     "output_type": "display_data"
    }
   ],
   "source": [
    "fig = plt.figure()\n",
    "ax = fig.add_axes([0,0,1,1])\n",
    "ax.scatter(X,y,color='blue')"
   ]
  },
  {
   "cell_type": "code",
   "execution_count": 43,
   "metadata": {},
   "outputs": [
    {
     "data": {
      "text/plain": [
       "<matplotlib.collections.PathCollection at 0x195c0cc8>"
      ]
     },
     "execution_count": 43,
     "metadata": {},
     "output_type": "execute_result"
    },
    {
     "data": {
      "image/png": "[encoded data removed]",
      "text/plain": [
       "<Figure size 432x288 with 1 Axes>"
      ]
     },
     "metadata": {
      "needs_background": "light"
     },
     "output_type": "display_data"
    }
   ],
   "source": [
    "x = dataset.iloc[:,3:7].values\n",
    "y = dataset.iloc[:,5:6].values\n",
    "X = dataset.iloc[:,4:5].values\n",
    "fig = plt.figure()\n",
    "ax = fig.add_axes([0,0,1,1])\n",
    "ax.scatter(X,y,color='blue')"
   ]
  },
  {
   "cell_type": "code",
   "execution_count": 44,
   "metadata": {},
   "outputs": [
    {
     "data": {
      "text/plain": [
       "<matplotlib.collections.PathCollection at 0x19625dc8>"
      ]
     },
     "execution_count": 44,
     "metadata": {},
     "output_type": "execute_result"
    },
    {
     "data": {
      "image/png": "[encoded data removed]",
      "text/plain": [
       "<Figure size 432x288 with 1 Axes>"
      ]
     },
     "metadata": {
      "needs_background": "light"
     },
     "output_type": "display_data"
    }
   ],
   "source": [
    "x = dataset.iloc[:,3:7].values\n",
    "y = dataset.iloc[:,5:6].values\n",
    "X = dataset.iloc[:,5:6].values\n",
    "fig = plt.figure()\n",
    "ax = fig.add_axes([0,0,1,1])\n",
    "ax.scatter(X,y,color='blue')"
   ]
  },
  {
   "cell_type": "code",
   "execution_count": 45,
   "metadata": {},
   "outputs": [
    {
     "data": {
      "text/plain": [
       "<matplotlib.collections.PathCollection at 0x199179c8>"
      ]
     },
     "execution_count": 45,
     "metadata": {},
     "output_type": "execute_result"
    },
    {
     "data": {
      "image/png": "[encoded data removed]",
      "text/plain": [
       "<Figure size 432x288 with 1 Axes>"
      ]
     },
     "metadata": {
      "needs_background": "light"
     },
     "output_type": "display_data"
    }
   ],
   "source": [
    "x = dataset.iloc[:,3:7].values\n",
    "y = dataset.iloc[:,6:7].values\n",
    "X = dataset.iloc[:,7:].values\n",
    "fig = plt.figure()\n",
    "ax = fig.add_axes([0,0,1,1])\n",
    "ax.scatter(X,y,color='blue')"
   ]
  },
  {
   "cell_type": "code",
   "execution_count": 46,
   "metadata": {},
   "outputs": [
    {
     "ename": "ImportError",
     "evalue": "No module named sklearn.model_selection",
     "output_type": "error",
     "traceback": [
      "\u001b[1;31m---------------------------------------------------------------------------\u001b[0m",
      "\u001b[1;31mImportError\u001b[0m                               Traceback (most recent call last)",
      "\u001b[1;32m<ipython-input-46-73edc048c06b>\u001b[0m in \u001b[0;36m<module>\u001b[1;34m()\u001b[0m\n\u001b[1;32m----> 1\u001b[1;33m \u001b[1;32mfrom\u001b[0m \u001b[0msklearn\u001b[0m\u001b[1;33m.\u001b[0m\u001b[0mmodel_selection\u001b[0m \u001b[1;32mimport\u001b[0m \u001b[0mtrain_test_split\u001b[0m\u001b[1;33m\u001b[0m\u001b[0m\n\u001b[0m",
      "\u001b[1;31mImportError\u001b[0m: No module named sklearn.model_selection"
     ]
    }
   ],
   "source": [
    "from sklearn.model_selection import train_test_split"
   ]
  },
  {
   "cell_type": "code",
   "execution_count": 47,
   "metadata": {},
   "outputs": [
    {
     "ename": "ImportError",
     "evalue": "No module named sklearn.cross_validation",
     "output_type": "error",
     "traceback": [
      "\u001b[1;31m---------------------------------------------------------------------------\u001b[0m",
      "\u001b[1;31mImportError\u001b[0m                               Traceback (most recent call last)",
      "\u001b[1;32m<ipython-input-47-d05cc6ee7707>\u001b[0m in \u001b[0;36m<module>\u001b[1;34m()\u001b[0m\n\u001b[1;32m----> 1\u001b[1;33m \u001b[1;32mfrom\u001b[0m \u001b[0msklearn\u001b[0m\u001b[1;33m.\u001b[0m\u001b[0mcross_validation\u001b[0m \u001b[1;32mimport\u001b[0m \u001b[0mtrain_test_split\u001b[0m\u001b[1;33m\u001b[0m\u001b[0m\n\u001b[0m",
      "\u001b[1;31mImportError\u001b[0m: No module named sklearn.cross_validation"
     ]
    }
   ],
   "source": [
    "from sklearn.cross_validation import train_test_split"
   ]
  },
  {
   "cell_type": "code",
   "execution_count": 48,
   "metadata": {},
   "outputs": [
    {
     "name": "stdout",
     "output_type": "stream",
     "text": [
      "Collecting scikit-learn\n",
      "  Downloading https://files.pythonhosted.org/packages/92/ea/82a9ae87428ce6fb0956c89b1947cc6a70f6c6548b1b2b9da34c4511fe0d/scikit_learn-0.20.4-cp27-cp27m-win_amd64.whl (4.9MB)\n",
      "Collecting scipy>=0.13.3 (from scikit-learn)\n",
      "  Downloading https://files.pythonhosted.org/packages/91/46/3c982996646325c8c11a33956ee0d944d9f1b04e02b147e70eec3efee942/scipy-1.2.3-cp27-cp27m-win_amd64.whl (30.5MB)\n",
      "Requirement already satisfied, skipping upgrade: numpy>=1.8.2 in c:\\python27\\lib\\site-packages (from scikit-learn) (1.16.6)\n",
      "Installing collected packages: scipy, scikit-learn\n",
      "Successfully installed scikit-learn-0.20.4 scipy-1.2.3\n"
     ]
    },
    {
     "name": "stderr",
     "output_type": "stream",
     "text": [
      "DEPRECATION: Python 2.7 will reach the end of its life on January 1st, 2020. Please upgrade your Python as Python 2.7 won't be maintained after that date. A future version of pip will drop support for Python 2.7. More details about Python 2 support in pip, can be found at https://pip.pypa.io/en/latest/development/release-process/#python-2-support\n",
      "WARNING: You are using pip version 19.2.3, however version 20.3.1 is available.\n",
      "You should consider upgrading via the 'python -m pip install --upgrade pip' command.\n"
     ]
    }
   ],
   "source": [
    "!pip install -U scikit-learn\n"
   ]
  },
  {
   "cell_type": "code",
   "execution_count": 49,
   "metadata": {},
   "outputs": [],
   "source": [
    "from sklearn.model_selection import train_test_split"
   ]
  },
  {
   "cell_type": "code",
   "execution_count": 50,
   "metadata": {},
   "outputs": [],
   "source": [
    "x_train, x_test, y_train, y_test = train_test_split(x,y,test_size=0.3,random_state=0)"
   ]
  },
  {
   "cell_type": "code",
   "execution_count": 51,
   "metadata": {},
   "outputs": [
    {
     "data": {
      "text/plain": [
       "array([[32.4914466 , 12.53035737, 37.8752191 ,  2.47613905],\n",
       "       [32.7111193 , 12.32629139, 36.67387836,  3.35027929],\n",
       "       [33.07773079, 11.46698422, 35.67572763,  1.80922959],\n",
       "       [32.21292383, 11.73299146, 35.63395395,  4.33186303],\n",
       "       [32.77049216, 11.37176736, 35.26149812,  4.03438613],\n",
       "       [30.73772037, 12.63660605, 36.21376309,  3.35784684],\n",
       "       [33.56647439, 12.23565925, 37.27757338,  2.53204406],\n",
       "       [32.24635   , 11.30555143, 37.13312676,  1.70738973],\n",
       "       [34.56868085, 11.37808709, 38.30447119,  3.78493211],\n",
       "       [31.94539575, 12.96576148, 36.9663889 ,  6.07665364],\n",
       "       [32.68624509, 12.63857212, 36.09722093,  4.29773748],\n",
       "       [32.67294353, 12.27605698, 37.19279353,  3.98247151],\n",
       "       [35.86023651, 11.73066139, 36.88214908,  3.41620998],\n",
       "       [34.39432665, 12.80775183, 38.55103029,  1.81007988],\n",
       "       [31.86483255, 13.44340599, 36.87831537,  2.36108695],\n",
       "       [32.83789305, 13.18518117, 35.92159519,  1.82359518],\n",
       "       [34.20053941, 12.66780888, 37.48704925,  3.70162229],\n",
       "       [33.34450869, 10.96980287, 35.97457811,  2.62762497],\n",
       "       [36.13966249, 12.05026723, 36.95964319,  3.86486074],\n",
       "       [32.86532717, 11.98441752, 37.0443614 ,  3.45238858],\n",
       "       [34.96760989, 13.9194944 , 37.95201319,  5.06669686],\n",
       "       [33.10035775, 11.83211223, 36.84149164,  3.61223915],\n",
       "       [32.92261076, 11.56811634, 36.90937821,  2.47175067],\n",
       "       [33.1556997 , 12.93155027, 38.16643556,  3.85447386],\n",
       "       [34.55576799, 12.17052542, 39.13109673,  3.66310549],\n",
       "       [32.14906052, 10.04731474, 37.18144731,  3.53508843],\n",
       "       [33.50308726, 12.8779837 , 37.44102134,  1.55915194],\n",
       "       [32.99059904, 10.44123506, 35.9389625 ,  2.89507516],\n",
       "       [33.79038721, 11.94234087, 38.06341359,  4.08180269],\n",
       "       [32.00475302, 11.39520943, 37.33281446,  3.803365  ],\n",
       "       [31.86274111, 14.03986726, 37.02226899,  3.73822517],\n",
       "       [32.40173183, 12.08930957, 38.3099079 ,  3.87333757],\n",
       "       [33.01479222, 11.76117233, 37.57016384,  3.83416967],\n",
       "       [32.71251233, 11.72447386, 37.1531516 ,  3.308443  ],\n",
       "       [31.44744649, 10.1016322 , 38.04345265,  4.23829619],\n",
       "       [33.68093695, 11.20156988, 37.83544773,  2.20881368],\n",
       "       [34.72908017, 11.96689808, 36.54759628,  2.95744876],\n",
       "       [33.94311858, 11.48419869, 36.83936583,  2.40245383],\n",
       "       [33.55165061, 11.93689516, 35.90025278,  4.54333241],\n",
       "       [31.26064687, 13.26676035, 36.9711951 ,  2.26725111],\n",
       "       [33.26463207, 10.73213134, 36.14579171,  4.08656634],\n",
       "       [34.56455771, 13.14655143, 37.33544589,  3.87687518],\n",
       "       [33.08529799, 13.09353728, 38.31564796,  4.75036007],\n",
       "       [33.63662446, 11.23650676, 37.67502073,  5.25470893],\n",
       "       [33.55520742, 11.55182117, 36.62883429,  2.83794316],\n",
       "       [31.92627203, 11.10946073, 37.26895887,  2.66403418],\n",
       "       [34.33075044, 13.72245368, 35.77311639,  2.90900846],\n",
       "       [33.78520721, 13.03951103, 36.31272657,  2.01819463],\n",
       "       [31.6739155 , 12.32914702, 37.07437107,  3.98246232],\n",
       "       [32.42569728, 11.44890154, 37.58019043,  2.58696799],\n",
       "       [34.17951757, 12.58154773, 35.4442647 ,  3.13706898],\n",
       "       [33.42874704, 10.63676108, 37.57883524,  2.92639645],\n",
       "       [32.30274837, 12.81539265, 37.95780983,  4.61542631],\n",
       "       [33.92462481, 11.91141556, 38.2747022 ,  2.91003792],\n",
       "       [34.312167  , 11.81058676, 37.41413357,  2.47359612],\n",
       "       [29.53242897, 10.9612984 , 37.42021558,  4.04642316],\n",
       "       [31.12809005, 13.27895623, 37.38718053,  4.62607529],\n",
       "       [32.52976873, 11.7477317 , 36.93988205,  0.80151572],\n",
       "       [34.64266976, 11.86648121, 37.71777057,  4.00332504],\n",
       "       [32.34279623, 11.40964462, 35.77778217,  3.87243204],\n",
       "       [32.59718266, 10.88956686, 38.21257083,  4.44205433],\n",
       "       [33.19157088,  9.84612491, 36.87631323,  3.80667095],\n",
       "       [33.63781168, 12.03950237, 34.48718475,  2.73920047],\n",
       "       [34.08026009, 11.5914397 , 36.45689841,  4.65285445],\n",
       "       [33.02642035, 13.18681287, 38.0669296 ,  2.89829958],\n",
       "       [32.73322416, 11.81857176, 37.10203133,  1.50385442],\n",
       "       [33.99257277, 13.33897545, 37.22580613,  2.48260777],\n",
       "       [31.1695068 , 13.97018107, 36.67395274,  1.78517394],\n",
       "       [33.54047906, 12.88412462, 36.22604169,  5.00727199],\n",
       "       [32.04983939, 12.23805735, 38.73086174,  3.12056891],\n",
       "       [32.60928264, 10.53730754, 35.7305524 ,  3.91438467],\n",
       "       [34.37425805, 15.12699429, 37.15762409,  5.37759358],\n",
       "       [31.81642833, 14.28801459, 36.77386137,  2.96449788],\n",
       "       [33.44812501, 11.90375668, 36.8745436 ,  2.78275783],\n",
       "       [33.30857162, 11.69168613, 37.48091198,  1.71577717],\n",
       "       [33.98100558,  9.3162892 , 36.91495155,  2.86842818],\n",
       "       [33.10833615, 12.89237451, 36.5273883 ,  4.59411686],\n",
       "       [32.49839307, 13.41075918, 35.99048895,  3.18461866],\n",
       "       [34.34392191, 11.6930582 , 36.81293413,  3.4470929 ],\n",
       "       [31.30919264, 11.94717532, 36.19083324,  3.20552976],\n",
       "       [31.90485713, 12.22772828, 36.98591348,  3.77142013],\n",
       "       [33.17720467, 11.62277717, 35.96889569,  3.63409373],\n",
       "       [33.81173341, 11.18680872, 36.29889308,  4.3019965 ],\n",
       "       [31.73663569, 10.74853366, 35.73870747,  4.83552867],\n",
       "       [30.57436368, 11.35104901, 37.08884658,  4.078308  ],\n",
       "       [33.21718784, 10.99968366, 38.44276669,  4.24381282],\n",
       "       [31.57413802, 12.94155573, 36.72527683,  4.56039607],\n",
       "       [34.60331112, 12.20729849, 33.91384725,  6.92268934],\n",
       "       [31.81248256, 10.88692118, 34.89782769,  3.12863886],\n",
       "       [34.39016366, 12.64519514, 38.46832111,  2.87459691],\n",
       "       [34.11756669, 11.59187167, 37.7436197 ,  3.6785894 ],\n",
       "       [33.59891334, 13.25273709, 37.30596142,  2.93557727],\n",
       "       [33.97172204, 12.28446707, 38.29572526,  1.13047696],\n",
       "       [34.87849495, 13.06789568, 36.67822227,  1.92071548],\n",
       "       [33.07570303, 12.31984506, 37.81915511,  3.4427992 ],\n",
       "       [31.82934646, 11.26825923, 36.95696543,  2.66891977],\n",
       "       [32.6882293 , 13.76153285, 39.25293095,  2.99576118],\n",
       "       [33.20061634, 11.96598027, 36.83153585,  3.54903606],\n",
       "       [33.87978429, 12.4955916 , 38.05260975,  4.63932033],\n",
       "       [32.90345433, 10.54264542, 35.5338635 ,  3.09182687],\n",
       "       [32.06377462, 10.71914974, 37.71250864,  3.00474254],\n",
       "       [32.3025531 , 11.97906148, 38.26906069,  3.53286158],\n",
       "       [34.33589584, 12.22893471, 36.15719115,  4.69432227],\n",
       "       [33.70088554, 13.47157767, 37.0716432 ,  2.3790765 ],\n",
       "       [32.0215955 , 11.36634831, 36.68377615,  4.68501725],\n",
       "       [33.86318871, 11.52352268, 35.93804523,  3.0130325 ],\n",
       "       [32.65318146, 11.60253219, 37.30968877,  2.78946152],\n",
       "       [32.69323954, 12.6007504 , 37.37011822,  3.46701407],\n",
       "       [30.4925367 , 11.56293625, 35.97656497,  1.48161663],\n",
       "       [32.44952156, 13.45772494, 37.23880567,  2.94141075],\n",
       "       [34.43642584, 13.3254691 , 36.76860309,  3.37125811],\n",
       "       [32.73914294, 12.35195897, 37.37335886,  4.43427343],\n",
       "       [34.55829461, 11.281445  , 36.49440648,  2.49167154],\n",
       "       [33.9877729 , 13.38623528, 37.53449734,  3.27343358],\n",
       "       [31.87455169, 10.29035077, 36.92976156,  3.49109334],\n",
       "       [31.12397435, 12.38651626, 35.63211222,  4.28848677],\n",
       "       [33.58294684, 12.76153128, 36.90818962,  2.47933982],\n",
       "       [31.3123496 , 11.68490419, 38.7170763 ,  3.5942951 ],\n",
       "       [31.76561882, 12.44261655, 38.13171203,  3.85027964],\n",
       "       [32.28312306, 10.90255623, 36.09424195,  4.78920162],\n",
       "       [33.74922777, 11.1371403 , 38.40137369,  4.59552271],\n",
       "       [31.66104982, 11.39806419, 36.5944567 ,  3.19839927],\n",
       "       [33.54097679, 11.85189083, 37.42454792,  1.76773071],\n",
       "       [32.03054972, 12.64420212, 38.00182747,  5.03810749],\n",
       "       [32.59209323, 10.31471792, 36.7290294 ,  4.79110874],\n",
       "       [31.7207699 , 11.75234317, 38.57360523,  5.0239342 ],\n",
       "       [33.75499473, 12.06415663, 37.27122169,  3.97055563],\n",
       "       [32.86530121, 12.07483017, 35.56917032,  2.39907979],\n",
       "       [33.48193057, 11.91867031, 37.31770495,  3.33633938],\n",
       "       [32.9925732 , 13.00436201, 36.98504142,  4.62041638],\n",
       "       [33.36938094, 12.22248394, 36.35523488,  3.44701779],\n",
       "       [33.94624062, 10.98397673, 37.95148946,  3.05071297],\n",
       "       [33.39826013, 11.03785041, 38.61733445,  4.11634047],\n",
       "       [33.9252966 , 11.58865542, 35.25224202,  3.39205049],\n",
       "       [33.79475594, 10.98280553, 34.81063145,  3.20180172],\n",
       "       [34.69559119, 11.60899707, 37.68487728,  3.16309193],\n",
       "       [35.37187609, 10.5724666 , 36.86218335,  4.19834906],\n",
       "       [33.11995443, 12.95326254, 37.03427958,  3.47202138],\n",
       "       [33.67683087, 10.97139243, 37.72236711,  3.62933992],\n",
       "       [32.48426048, 10.93325228, 36.54550623,  3.26132474],\n",
       "       [33.45947685, 11.38861262, 37.90913872,  2.56663984],\n",
       "       [34.18777483, 10.32011626, 37.4534051 ,  2.09489171],\n",
       "       [33.87974497, 13.58780608, 38.26035344,  3.25811288],\n",
       "       [33.54123131, 12.78389178, 36.43064962,  4.64819932],\n",
       "       [35.63085386, 12.12540197, 38.18776368,  4.01905143],\n",
       "       [33.33067252, 12.79518855, 37.5366533 ,  4.44630832],\n",
       "       [33.53186013, 13.66576979, 36.90022076,  3.51568826],\n",
       "       [32.27459383, 12.95481145, 37.10881638,  3.68991662],\n",
       "       [32.9800292 , 11.20115977, 37.68933698,  2.41283096],\n",
       "       [33.87103788, 12.02692534, 34.47687763,  5.4935072 ]])"
      ]
     },
     "execution_count": 51,
     "metadata": {},
     "output_type": "execute_result"
    }
   ],
   "source": [
    "x_test"
   ]
  },
  {
   "cell_type": "code",
   "execution_count": 52,
   "metadata": {},
   "outputs": [],
   "source": [
    "from sklearn.linear_model import LinearRegression"
   ]
  },
  {
   "cell_type": "code",
   "execution_count": 53,
   "metadata": {},
   "outputs": [],
   "source": [
    "model = LinearRegression()"
   ]
  },
  {
   "cell_type": "code",
   "execution_count": 54,
   "metadata": {},
   "outputs": [
    {
     "data": {
      "text/plain": [
       "LinearRegression(copy_X=True, fit_intercept=True, n_jobs=None,\n",
       "         normalize=False)"
      ]
     },
     "execution_count": 54,
     "metadata": {},
     "output_type": "execute_result"
    }
   ],
   "source": [
    "model.fit(x_train, y_train)"
   ]
  },
  {
   "cell_type": "code",
   "execution_count": 55,
   "metadata": {},
   "outputs": [],
   "source": [
    "y_predict = model.predict(x_test)"
   ]
  },
  {
   "cell_type": "code",
   "execution_count": 56,
   "metadata": {},
   "outputs": [
    {
     "data": {
      "text/plain": [
       "array([4.29773748])"
      ]
     },
     "execution_count": 56,
     "metadata": {},
     "output_type": "execute_result"
    }
   ],
   "source": [
    "y_predict[10]"
   ]
  },
  {
   "cell_type": "code",
   "execution_count": 57,
   "metadata": {},
   "outputs": [
    {
     "data": {
      "text/plain": [
       "array([3.13706898])"
      ]
     },
     "execution_count": 57,
     "metadata": {},
     "output_type": "execute_result"
    }
   ],
   "source": [
    "y_predict[50]"
   ]
  },
  {
   "cell_type": "code",
   "execution_count": null,
   "metadata": {},
   "outputs": [],
   "source": []
  }
 ],
 "metadata": {
  "kernelspec": {
   "display_name": "Python 2",
   "language": "python",
   "name": "python2"
  },
  "language_info": {
   "codemirror_mode": {
    "name": "ipython",
    "version": 2
   },
   "file_extension": ".py",
   "mimetype": "text/x-python",
   "name": "python",
   "nbconvert_exporter": "python",
   "pygments_lexer": "ipython2",
   "version": "2.7.18"
  }
 },
 "nbformat": 4,
 "nbformat_minor": 2
}
